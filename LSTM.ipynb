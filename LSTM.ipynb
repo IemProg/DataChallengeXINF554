{
  "nbformat": 4,
  "nbformat_minor": 0,
  "metadata": {
    "accelerator": "GPU",
    "colab": {
      "name": "LSTM.ipynb",
      "provenance": [],
      "collapsed_sections": []
    },
    "kernelspec": {
      "display_name": "Python 3",
      "name": "python3"
    }
  },
  "cells": [
    {
      "cell_type": "code",
      "metadata": {
        "id": "8EyCiJmDMH5w"
      },
      "source": [
        "import numpy as np\n",
        "import matplotlib.pyplot as plt\n",
        "import pandas as pd\n",
        "import torch\n",
        "import os, sys\n",
        "from collections import Counter"
      ],
      "execution_count": 1,
      "outputs": []
    },
    {
      "cell_type": "code",
      "metadata": {
        "colab": {
          "base_uri": "https://localhost:8080/"
        },
        "id": "DM1lzuZ0MwAY",
        "outputId": "fd302b4c-5074-42cb-e687-db78c46b7108"
      },
      "source": [
        "!pip install verstack"
      ],
      "execution_count": 2,
      "outputs": [
        {
          "output_type": "stream",
          "text": [
            "Collecting verstack\n",
            "  Downloading https://files.pythonhosted.org/packages/bc/7e/6319afad955211755557db0f30c31a6eddd6cefcc795fec1c27bbb1b5e31/verstack-0.3.1.tar.gz\n",
            "Requirement already satisfied: pandas in /usr/local/lib/python3.6/dist-packages (from verstack) (1.1.4)\n",
            "Requirement already satisfied: numpy in /usr/local/lib/python3.6/dist-packages (from verstack) (1.18.5)\n",
            "Requirement already satisfied: xgboost in /usr/local/lib/python3.6/dist-packages (from verstack) (0.90)\n",
            "Requirement already satisfied: sklearn in /usr/local/lib/python3.6/dist-packages (from verstack) (0.0)\n",
            "Requirement already satisfied: pytz>=2017.2 in /usr/local/lib/python3.6/dist-packages (from pandas->verstack) (2018.9)\n",
            "Requirement already satisfied: python-dateutil>=2.7.3 in /usr/local/lib/python3.6/dist-packages (from pandas->verstack) (2.8.1)\n",
            "Requirement already satisfied: scipy in /usr/local/lib/python3.6/dist-packages (from xgboost->verstack) (1.4.1)\n",
            "Requirement already satisfied: scikit-learn in /usr/local/lib/python3.6/dist-packages (from sklearn->verstack) (0.22.2.post1)\n",
            "Requirement already satisfied: six>=1.5 in /usr/local/lib/python3.6/dist-packages (from python-dateutil>=2.7.3->pandas->verstack) (1.15.0)\n",
            "Requirement already satisfied: joblib>=0.11 in /usr/local/lib/python3.6/dist-packages (from scikit-learn->sklearn->verstack) (0.17.0)\n",
            "Building wheels for collected packages: verstack\n",
            "  Building wheel for verstack (setup.py) ... \u001b[?25l\u001b[?25hdone\n",
            "  Created wheel for verstack: filename=verstack-0.3.1-cp36-none-any.whl size=14343 sha256=64c13ac5fbe9b9b0231012bff0212c6b08072eaa66d142c6dd313a5b0d5df0a7\n",
            "  Stored in directory: /root/.cache/pip/wheels/15/1b/58/10e59516150cea4d9b1dbacceb3bffcc0cfd2d166efabec2f6\n",
            "Successfully built verstack\n",
            "Installing collected packages: verstack\n",
            "Successfully installed verstack-0.3.1\n"
          ],
          "name": "stdout"
        }
      ]
    },
    {
      "cell_type": "code",
      "metadata": {
        "id": "Ee1RCA89MYEs"
      },
      "source": [
        "from sklearn.ensemble import GradientBoostingRegressor\n",
        "from sklearn.feature_extraction.text import TfidfVectorizer\n",
        "from sklearn.metrics import mean_absolute_error\n",
        "from verstack.stratified_continuous_split import scsplit"
      ],
      "execution_count": 3,
      "outputs": []
    },
    {
      "cell_type": "code",
      "metadata": {
        "colab": {
          "base_uri": "https://localhost:8080/"
        },
        "id": "-enJqRe2Me0h",
        "outputId": "85cfc32a-8b21-4568-b8d5-c8c072682afc"
      },
      "source": [
        "from google.colab import drive\n",
        "drive.mount('/content/gdrive')"
      ],
      "execution_count": 4,
      "outputs": [
        {
          "output_type": "stream",
          "text": [
            "Mounted at /content/gdrive\n"
          ],
          "name": "stdout"
        }
      ]
    },
    {
      "cell_type": "code",
      "metadata": {
        "colab": {
          "base_uri": "https://localhost:8080/",
          "height": 35
        },
        "id": "dT-R5wLbOUMX",
        "outputId": "a1499082-5f3d-4616-d07a-7d2759951923"
      },
      "source": [
        "path_data = \"/content/gdrive/MyDrive/DataSets\"\n",
        "path_data_train = path_data + \"/train.csv\"\n",
        "path_data_train"
      ],
      "execution_count": 5,
      "outputs": [
        {
          "output_type": "execute_result",
          "data": {
            "application/vnd.google.colaboratory.intrinsic+json": {
              "type": "string"
            },
            "text/plain": [
              "'/content/gdrive/MyDrive/DataSets/train.csv'"
            ]
          },
          "metadata": {
            "tags": []
          },
          "execution_count": 5
        }
      ]
    },
    {
      "cell_type": "code",
      "metadata": {
        "colab": {
          "base_uri": "https://localhost:8080/"
        },
        "id": "cvxNn9DfOwq8",
        "outputId": "3f6fdb34-28af-488a-9448-caca5fd4f2c6"
      },
      "source": [
        "train = pd.read_csv(path_data_train)\n",
        "train.columns"
      ],
      "execution_count": 6,
      "outputs": [
        {
          "output_type": "execute_result",
          "data": {
            "text/plain": [
              "Index(['id', 'timestamp', 'retweet_count', 'user_verified',\n",
              "       'user_statuses_count', 'user_followers_count', 'user_friends_count',\n",
              "       'user_mentions', 'urls', 'hashtags', 'text'],\n",
              "      dtype='object')"
            ]
          },
          "metadata": {
            "tags": []
          },
          "execution_count": 6
        }
      ]
    },
    {
      "cell_type": "code",
      "metadata": {
        "id": "oFRgh5WeOzrP"
      },
      "source": [
        "sorted_csv = train.sort_values(by=[\"retweet_count\"], ascending=False)\n",
        "sorted_csv.drop('timestamp', axis=1, inplace=True)"
      ],
      "execution_count": 7,
      "outputs": []
    },
    {
      "cell_type": "code",
      "metadata": {
        "colab": {
          "base_uri": "https://localhost:8080/",
          "height": 136
        },
        "id": "3itXcYZmPB2X",
        "outputId": "b63c1c74-52f6-453d-bd55-eae4078fe6e6"
      },
      "source": [
        "sorted_csv[20:23]"
      ],
      "execution_count": 8,
      "outputs": [
        {
          "output_type": "execute_result",
          "data": {
            "text/html": [
              "<div>\n",
              "<style scoped>\n",
              "    .dataframe tbody tr th:only-of-type {\n",
              "        vertical-align: middle;\n",
              "    }\n",
              "\n",
              "    .dataframe tbody tr th {\n",
              "        vertical-align: top;\n",
              "    }\n",
              "\n",
              "    .dataframe thead th {\n",
              "        text-align: right;\n",
              "    }\n",
              "</style>\n",
              "<table border=\"1\" class=\"dataframe\">\n",
              "  <thead>\n",
              "    <tr style=\"text-align: right;\">\n",
              "      <th></th>\n",
              "      <th>id</th>\n",
              "      <th>retweet_count</th>\n",
              "      <th>user_verified</th>\n",
              "      <th>user_statuses_count</th>\n",
              "      <th>user_followers_count</th>\n",
              "      <th>user_friends_count</th>\n",
              "      <th>user_mentions</th>\n",
              "      <th>urls</th>\n",
              "      <th>hashtags</th>\n",
              "      <th>text</th>\n",
              "    </tr>\n",
              "  </thead>\n",
              "  <tbody>\n",
              "    <tr>\n",
              "      <th>408817</th>\n",
              "      <td>408817</td>\n",
              "      <td>185406</td>\n",
              "      <td>False</td>\n",
              "      <td>86803</td>\n",
              "      <td>1238</td>\n",
              "      <td>99</td>\n",
              "      <td>NaN</td>\n",
              "      <td>NaN</td>\n",
              "      <td>NaN</td>\n",
              "      <td>when the coronavirus tweets are funny but ur s...</td>\n",
              "    </tr>\n",
              "    <tr>\n",
              "      <th>470317</th>\n",
              "      <td>470317</td>\n",
              "      <td>178111</td>\n",
              "      <td>False</td>\n",
              "      <td>876</td>\n",
              "      <td>5361</td>\n",
              "      <td>4292</td>\n",
              "      <td>NaN</td>\n",
              "      <td>NaN</td>\n",
              "      <td>NaN</td>\n",
              "      <td>My dog after I sent him to get supplies since ...</td>\n",
              "    </tr>\n",
              "    <tr>\n",
              "      <th>535135</th>\n",
              "      <td>535135</td>\n",
              "      <td>168249</td>\n",
              "      <td>True</td>\n",
              "      <td>142957</td>\n",
              "      <td>138422</td>\n",
              "      <td>11082</td>\n",
              "      <td>NaN</td>\n",
              "      <td>NaN</td>\n",
              "      <td>NaN</td>\n",
              "      <td>In retrospect Sandy Hook marked the end of the...</td>\n",
              "    </tr>\n",
              "  </tbody>\n",
              "</table>\n",
              "</div>"
            ],
            "text/plain": [
              "            id  ...                                               text\n",
              "408817  408817  ...  when the coronavirus tweets are funny but ur s...\n",
              "470317  470317  ...  My dog after I sent him to get supplies since ...\n",
              "535135  535135  ...  In retrospect Sandy Hook marked the end of the...\n",
              "\n",
              "[3 rows x 10 columns]"
            ]
          },
          "metadata": {
            "tags": []
          },
          "execution_count": 8
        }
      ]
    },
    {
      "cell_type": "code",
      "metadata": {
        "colab": {
          "base_uri": "https://localhost:8080/"
        },
        "id": "kECcNNbxPFd3",
        "outputId": "c8ab8101-7d70-4867-9cfc-fd773d7f347a"
      },
      "source": [
        "counter_user_mentions = sorted_csv['user_mentions'].isnull().sum()\n",
        "counter_urls = sorted_csv['urls'].isnull().sum()\n",
        "counter_hashtags = sorted_csv['hashtags'].isnull().sum()\n",
        "\n",
        "print(\"\\t User_mentions column NULL entries: \", counter_user_mentions)\n",
        "print(\"\\t Urls column column NULL entries: \", counter_urls)\n",
        "print(\"\\t Hashtags column NULL entries: \", counter_hashtags)\n",
        "print(\"\\t Number of row: \", len(sorted_csv.index))"
      ],
      "execution_count": 10,
      "outputs": [
        {
          "output_type": "stream",
          "text": [
            "\t User_mentions column NULL entries:  611486\n",
            "\t Urls column column NULL entries:  451697\n",
            "\t Hashtags column NULL entries:  593326\n",
            "\t Number of row:  665777\n"
          ],
          "name": "stdout"
        }
      ]
    },
    {
      "cell_type": "code",
      "metadata": {
        "id": "JhIpsWAeP7in"
      },
      "source": [
        "'''\n",
        "Attention\n",
        "As noted in the previous cell, we can drop the columns since most of the entries does not provide much information"
      ],
      "execution_count": null,
      "outputs": []
    },
    {
      "cell_type": "code",
      "metadata": {
        "id": "aM8b7BsqPRc-"
      },
      "source": [
        "sorted_csv.drop('user_mentions', axis=1, inplace=True)\n",
        "sorted_csv.drop('urls', axis=1, inplace=True)\n",
        "sorted_csv.drop('hashtags', axis=1, inplace=True)"
      ],
      "execution_count": 12,
      "outputs": []
    },
    {
      "cell_type": "code",
      "metadata": {
        "colab": {
          "base_uri": "https://localhost:8080/",
          "height": 195
        },
        "id": "fG-9qi3YPmAn",
        "outputId": "0e642331-d5f7-47e5-d859-f24669df9039"
      },
      "source": [
        "sorted_csv[:5]"
      ],
      "execution_count": 13,
      "outputs": [
        {
          "output_type": "execute_result",
          "data": {
            "text/html": [
              "<div>\n",
              "<style scoped>\n",
              "    .dataframe tbody tr th:only-of-type {\n",
              "        vertical-align: middle;\n",
              "    }\n",
              "\n",
              "    .dataframe tbody tr th {\n",
              "        vertical-align: top;\n",
              "    }\n",
              "\n",
              "    .dataframe thead th {\n",
              "        text-align: right;\n",
              "    }\n",
              "</style>\n",
              "<table border=\"1\" class=\"dataframe\">\n",
              "  <thead>\n",
              "    <tr style=\"text-align: right;\">\n",
              "      <th></th>\n",
              "      <th>id</th>\n",
              "      <th>retweet_count</th>\n",
              "      <th>user_verified</th>\n",
              "      <th>user_statuses_count</th>\n",
              "      <th>user_followers_count</th>\n",
              "      <th>user_friends_count</th>\n",
              "      <th>text</th>\n",
              "    </tr>\n",
              "  </thead>\n",
              "  <tbody>\n",
              "    <tr>\n",
              "      <th>546442</th>\n",
              "      <td>546442</td>\n",
              "      <td>942572</td>\n",
              "      <td>True</td>\n",
              "      <td>12256</td>\n",
              "      <td>25441659</td>\n",
              "      <td>133</td>\n",
              "      <td>Never Not 💜 https://t.co/Ag9oUTJvrN</td>\n",
              "    </tr>\n",
              "    <tr>\n",
              "      <th>565532</th>\n",
              "      <td>565532</td>\n",
              "      <td>647993</td>\n",
              "      <td>True</td>\n",
              "      <td>11599</td>\n",
              "      <td>27641492</td>\n",
              "      <td>824</td>\n",
              "      <td>To all the little girls watching...never doubt...</td>\n",
              "    </tr>\n",
              "    <tr>\n",
              "      <th>225845</th>\n",
              "      <td>225845</td>\n",
              "      <td>636394</td>\n",
              "      <td>True</td>\n",
              "      <td>12256</td>\n",
              "      <td>25441494</td>\n",
              "      <td>133</td>\n",
              "      <td>☺ https://t.co/9vNeJtA1vW</td>\n",
              "    </tr>\n",
              "    <tr>\n",
              "      <th>117825</th>\n",
              "      <td>117825</td>\n",
              "      <td>415787</td>\n",
              "      <td>False</td>\n",
              "      <td>1956</td>\n",
              "      <td>14783</td>\n",
              "      <td>1530</td>\n",
              "      <td>Easily one of the best social distancing ads I...</td>\n",
              "    </tr>\n",
              "    <tr>\n",
              "      <th>622524</th>\n",
              "      <td>622524</td>\n",
              "      <td>334427</td>\n",
              "      <td>True</td>\n",
              "      <td>4622</td>\n",
              "      <td>5313436</td>\n",
              "      <td>26</td>\n",
              "      <td>I can’t believe I have to say this, but please...</td>\n",
              "    </tr>\n",
              "  </tbody>\n",
              "</table>\n",
              "</div>"
            ],
            "text/plain": [
              "            id  ...                                               text\n",
              "546442  546442  ...                Never Not 💜 https://t.co/Ag9oUTJvrN\n",
              "565532  565532  ...  To all the little girls watching...never doubt...\n",
              "225845  225845  ...                          ☺ https://t.co/9vNeJtA1vW\n",
              "117825  117825  ...  Easily one of the best social distancing ads I...\n",
              "622524  622524  ...  I can’t believe I have to say this, but please...\n",
              "\n",
              "[5 rows x 7 columns]"
            ]
          },
          "metadata": {
            "tags": []
          },
          "execution_count": 13
        }
      ]
    },
    {
      "cell_type": "code",
      "metadata": {
        "colab": {
          "base_uri": "https://localhost:8080/",
          "height": 284
        },
        "id": "gHLAa0acQSw3",
        "outputId": "2498696d-deda-45f9-ec1e-d761838c06d0"
      },
      "source": [
        "sorted_csv.describe()"
      ],
      "execution_count": 14,
      "outputs": [
        {
          "output_type": "execute_result",
          "data": {
            "text/html": [
              "<div>\n",
              "<style scoped>\n",
              "    .dataframe tbody tr th:only-of-type {\n",
              "        vertical-align: middle;\n",
              "    }\n",
              "\n",
              "    .dataframe tbody tr th {\n",
              "        vertical-align: top;\n",
              "    }\n",
              "\n",
              "    .dataframe thead th {\n",
              "        text-align: right;\n",
              "    }\n",
              "</style>\n",
              "<table border=\"1\" class=\"dataframe\">\n",
              "  <thead>\n",
              "    <tr style=\"text-align: right;\">\n",
              "      <th></th>\n",
              "      <th>id</th>\n",
              "      <th>retweet_count</th>\n",
              "      <th>user_statuses_count</th>\n",
              "      <th>user_followers_count</th>\n",
              "      <th>user_friends_count</th>\n",
              "    </tr>\n",
              "  </thead>\n",
              "  <tbody>\n",
              "    <tr>\n",
              "      <th>count</th>\n",
              "      <td>665777.000000</td>\n",
              "      <td>665777.000000</td>\n",
              "      <td>6.657770e+05</td>\n",
              "      <td>6.657770e+05</td>\n",
              "      <td>6.657770e+05</td>\n",
              "    </tr>\n",
              "    <tr>\n",
              "      <th>mean</th>\n",
              "      <td>332888.000000</td>\n",
              "      <td>147.687398</td>\n",
              "      <td>4.167295e+04</td>\n",
              "      <td>2.329881e+05</td>\n",
              "      <td>2.743131e+03</td>\n",
              "    </tr>\n",
              "    <tr>\n",
              "      <th>std</th>\n",
              "      <td>192193.409422</td>\n",
              "      <td>2972.051181</td>\n",
              "      <td>9.848516e+04</td>\n",
              "      <td>2.442260e+06</td>\n",
              "      <td>1.725410e+04</td>\n",
              "    </tr>\n",
              "    <tr>\n",
              "      <th>min</th>\n",
              "      <td>0.000000</td>\n",
              "      <td>0.000000</td>\n",
              "      <td>0.000000e+00</td>\n",
              "      <td>0.000000e+00</td>\n",
              "      <td>0.000000e+00</td>\n",
              "    </tr>\n",
              "    <tr>\n",
              "      <th>25%</th>\n",
              "      <td>166444.000000</td>\n",
              "      <td>0.000000</td>\n",
              "      <td>2.352000e+03</td>\n",
              "      <td>2.060000e+02</td>\n",
              "      <td>2.290000e+02</td>\n",
              "    </tr>\n",
              "    <tr>\n",
              "      <th>50%</th>\n",
              "      <td>332888.000000</td>\n",
              "      <td>0.000000</td>\n",
              "      <td>1.080400e+04</td>\n",
              "      <td>1.002000e+03</td>\n",
              "      <td>6.390000e+02</td>\n",
              "    </tr>\n",
              "    <tr>\n",
              "      <th>75%</th>\n",
              "      <td>499332.000000</td>\n",
              "      <td>2.000000</td>\n",
              "      <td>3.809900e+04</td>\n",
              "      <td>6.012000e+03</td>\n",
              "      <td>1.746000e+03</td>\n",
              "    </tr>\n",
              "    <tr>\n",
              "      <th>max</th>\n",
              "      <td>665776.000000</td>\n",
              "      <td>942572.000000</td>\n",
              "      <td>7.203222e+06</td>\n",
              "      <td>1.170640e+08</td>\n",
              "      <td>4.399078e+06</td>\n",
              "    </tr>\n",
              "  </tbody>\n",
              "</table>\n",
              "</div>"
            ],
            "text/plain": [
              "                  id  retweet_count  ...  user_followers_count  user_friends_count\n",
              "count  665777.000000  665777.000000  ...          6.657770e+05        6.657770e+05\n",
              "mean   332888.000000     147.687398  ...          2.329881e+05        2.743131e+03\n",
              "std    192193.409422    2972.051181  ...          2.442260e+06        1.725410e+04\n",
              "min         0.000000       0.000000  ...          0.000000e+00        0.000000e+00\n",
              "25%    166444.000000       0.000000  ...          2.060000e+02        2.290000e+02\n",
              "50%    332888.000000       0.000000  ...          1.002000e+03        6.390000e+02\n",
              "75%    499332.000000       2.000000  ...          6.012000e+03        1.746000e+03\n",
              "max    665776.000000  942572.000000  ...          1.170640e+08        4.399078e+06\n",
              "\n",
              "[8 rows x 5 columns]"
            ]
          },
          "metadata": {
            "tags": []
          },
          "execution_count": 14
        }
      ]
    },
    {
      "cell_type": "markdown",
      "metadata": {
        "id": "cyvX-XRjRZFi"
      },
      "source": [
        "# 1. Setting Up\n"
      ]
    },
    {
      "cell_type": "code",
      "metadata": {
        "colab": {
          "base_uri": "https://localhost:8080/",
          "height": 286
        },
        "id": "Bkczq8byQpNz",
        "outputId": "796a7d88-2fab-41c0-d579-13554d8adf26"
      },
      "source": [
        "# keras.datasets.imdb is broken in TensorFlow 1.13 and 1.14 due to numpy 1.16.3\n",
        "!pip install numpy==1.16.2\n",
        "\n",
        "# All the imports!\n",
        "import tensorflow as tf \n",
        "import numpy as np\n",
        "import pandas as pd\n",
        "from tensorflow.keras.preprocessing import sequence\n",
        "from numpy import array\n",
        "\n",
        "from keras_preprocessing.text import Tokenizer\n",
        "\n",
        "# Supress deprecation warnings\n",
        "import logging\n",
        "logging.getLogger('tensorflow').disabled = True"
      ],
      "execution_count": 15,
      "outputs": [
        {
          "output_type": "stream",
          "text": [
            "Collecting numpy==1.16.2\n",
            "\u001b[?25l  Downloading https://files.pythonhosted.org/packages/35/d5/4f8410ac303e690144f0a0603c4b8fd3b986feb2749c435f7cdbb288f17e/numpy-1.16.2-cp36-cp36m-manylinux1_x86_64.whl (17.3MB)\n",
            "\u001b[K     |████████████████████████████████| 17.3MB 212kB/s \n",
            "\u001b[31mERROR: umap-learn 0.4.6 has requirement numpy>=1.17, but you'll have numpy 1.16.2 which is incompatible.\u001b[0m\n",
            "\u001b[31mERROR: datascience 0.10.6 has requirement folium==0.2.1, but you'll have folium 0.8.3 which is incompatible.\u001b[0m\n",
            "\u001b[31mERROR: albumentations 0.1.12 has requirement imgaug<0.2.7,>=0.2.5, but you'll have imgaug 0.2.9 which is incompatible.\u001b[0m\n",
            "\u001b[?25hInstalling collected packages: numpy\n",
            "  Found existing installation: numpy 1.18.5\n",
            "    Uninstalling numpy-1.18.5:\n",
            "      Successfully uninstalled numpy-1.18.5\n",
            "Successfully installed numpy-1.16.2\n"
          ],
          "name": "stdout"
        },
        {
          "output_type": "display_data",
          "data": {
            "application/vnd.colab-display-data+json": {
              "pip_warning": {
                "packages": [
                  "numpy"
                ]
              }
            }
          },
          "metadata": {
            "tags": []
          }
        }
      ]
    },
    {
      "cell_type": "code",
      "metadata": {
        "colab": {
          "base_uri": "https://localhost:8080/"
        },
        "id": "XB8_vnhCJszN",
        "outputId": "650f5508-7129-41b9-977f-565998f2d19e"
      },
      "source": [
        "import nltk \n",
        "nltk.download('stopwords')\n",
        "nltk.download('punkt')\n",
        "nltk.download('averaged_perceptron_tagger')\n",
        "nltk.download('wordnet')\n",
        "from nltk.corpus import stopwords, wordnet\n",
        "from nltk.stem import WordNetLemmatizer\n",
        "from nltk.probability import FreqDist \n",
        "from nltk.tokenize import word_tokenize"
      ],
      "execution_count": 16,
      "outputs": [
        {
          "output_type": "stream",
          "text": [
            "[nltk_data] Downloading package stopwords to /root/nltk_data...\n",
            "[nltk_data]   Unzipping corpora/stopwords.zip.\n",
            "[nltk_data] Downloading package punkt to /root/nltk_data...\n",
            "[nltk_data]   Unzipping tokenizers/punkt.zip.\n",
            "[nltk_data] Downloading package averaged_perceptron_tagger to\n",
            "[nltk_data]     /root/nltk_data...\n",
            "[nltk_data]   Unzipping taggers/averaged_perceptron_tagger.zip.\n",
            "[nltk_data] Downloading package wordnet to /root/nltk_data...\n",
            "[nltk_data]   Unzipping corpora/wordnet.zip.\n"
          ],
          "name": "stdout"
        }
      ]
    },
    {
      "cell_type": "code",
      "metadata": {
        "colab": {
          "base_uri": "https://localhost:8080/"
        },
        "id": "iREI8mACw0eM",
        "outputId": "d8079d47-e9e0-4c28-9976-319ecfb29968"
      },
      "source": [
        "from google.colab import drive\n",
        "drive.mount('/content/gdrive')"
      ],
      "execution_count": null,
      "outputs": [
        {
          "output_type": "stream",
          "text": [
            "Mounted at /content/gdrive\n"
          ],
          "name": "stdout"
        }
      ]
    },
    {
      "cell_type": "markdown",
      "metadata": {
        "id": "Esb9kp5qRsE5"
      },
      "source": [
        "# Create Mapping"
      ]
    },
    {
      "cell_type": "markdown",
      "metadata": {
        "id": "PbuVqTseTcFZ"
      },
      "source": [
        "Reviews in the IMDB dataset have been encoded as a sequence of integers. Luckily the dataset also contains an index for converting the reviews back into human readable form."
      ]
    },
    {
      "cell_type": "markdown",
      "metadata": {
        "id": "HI_n1nvKRgWo"
      },
      "source": [
        "# Data Insight\n"
      ]
    },
    {
      "cell_type": "markdown",
      "metadata": {
        "id": "qfrGOwJVTRJQ"
      },
      "source": [
        "Here we take a closer look at our data. How many words do our tweets contain?"
      ]
    },
    {
      "cell_type": "code",
      "metadata": {
        "colab": {
          "base_uri": "https://localhost:8080/"
        },
        "id": "Z9EGcHCiVIjp",
        "outputId": "92b7b0ad-7c89-4655-804f-c24eba4645e7"
      },
      "source": [
        "path_data = \"/content/gdrive/MyDrive/DataSets\"\n",
        "path_data_train = path_data + \"/train.csv\"\n",
        "train = pd.read_csv(path_data_train)\n",
        "train.columns"
      ],
      "execution_count": 17,
      "outputs": [
        {
          "output_type": "execute_result",
          "data": {
            "text/plain": [
              "Index(['id', 'timestamp', 'retweet_count', 'user_verified',\n",
              "       'user_statuses_count', 'user_followers_count', 'user_friends_count',\n",
              "       'user_mentions', 'urls', 'hashtags', 'text'],\n",
              "      dtype='object')"
            ]
          },
          "metadata": {
            "tags": []
          },
          "execution_count": 17
        }
      ]
    },
    {
      "cell_type": "code",
      "metadata": {
        "colab": {
          "base_uri": "https://localhost:8080/"
        },
        "id": "ZuVdxgcYi3NR",
        "outputId": "483b2e67-d851-4d50-94ef-c8fc903e6e0e"
      },
      "source": [
        "train.shape"
      ],
      "execution_count": 18,
      "outputs": [
        {
          "output_type": "execute_result",
          "data": {
            "text/plain": [
              "(665777, 11)"
            ]
          },
          "metadata": {
            "tags": []
          },
          "execution_count": 18
        }
      ]
    },
    {
      "cell_type": "code",
      "metadata": {
        "colab": {
          "base_uri": "https://localhost:8080/",
          "height": 136
        },
        "id": "_hna5Q3NWmp_",
        "outputId": "daacf4d5-1cbd-4fba-de60-f9d9f5df9c77"
      },
      "source": [
        "train_data_new = train[[\"id\", \"retweet_count\", \"text\"]]\n",
        "train_data_new[4555:4558]"
      ],
      "execution_count": 19,
      "outputs": [
        {
          "output_type": "execute_result",
          "data": {
            "text/html": [
              "<div>\n",
              "<style scoped>\n",
              "    .dataframe tbody tr th:only-of-type {\n",
              "        vertical-align: middle;\n",
              "    }\n",
              "\n",
              "    .dataframe tbody tr th {\n",
              "        vertical-align: top;\n",
              "    }\n",
              "\n",
              "    .dataframe thead th {\n",
              "        text-align: right;\n",
              "    }\n",
              "</style>\n",
              "<table border=\"1\" class=\"dataframe\">\n",
              "  <thead>\n",
              "    <tr style=\"text-align: right;\">\n",
              "      <th></th>\n",
              "      <th>id</th>\n",
              "      <th>retweet_count</th>\n",
              "      <th>text</th>\n",
              "    </tr>\n",
              "  </thead>\n",
              "  <tbody>\n",
              "    <tr>\n",
              "      <th>4555</th>\n",
              "      <td>4555</td>\n",
              "      <td>0</td>\n",
              "      <td>Correct.. this cooking of figures must fall</td>\n",
              "    </tr>\n",
              "    <tr>\n",
              "      <th>4556</th>\n",
              "      <td>4556</td>\n",
              "      <td>1</td>\n",
              "      <td>Listen to a leader and act like a leader @Just...</td>\n",
              "    </tr>\n",
              "    <tr>\n",
              "      <th>4557</th>\n",
              "      <td>4557</td>\n",
              "      <td>13</td>\n",
              "      <td>I love this song https://t.co/k6ytWiWo9Q</td>\n",
              "    </tr>\n",
              "  </tbody>\n",
              "</table>\n",
              "</div>"
            ],
            "text/plain": [
              "        id  retweet_count                                               text\n",
              "4555  4555              0        Correct.. this cooking of figures must fall\n",
              "4556  4556              1  Listen to a leader and act like a leader @Just...\n",
              "4557  4557             13           I love this song https://t.co/k6ytWiWo9Q"
            ]
          },
          "metadata": {
            "tags": []
          },
          "execution_count": 19
        }
      ]
    },
    {
      "cell_type": "code",
      "metadata": {
        "colab": {
          "base_uri": "https://localhost:8080/"
        },
        "id": "0htRmQsdhjDG",
        "outputId": "bde6d12e-bb65-45a3-93ac-237e973e4c5d"
      },
      "source": [
        "type(train_data_new)"
      ],
      "execution_count": 20,
      "outputs": [
        {
          "output_type": "execute_result",
          "data": {
            "text/plain": [
              "pandas.core.frame.DataFrame"
            ]
          },
          "metadata": {
            "tags": []
          },
          "execution_count": 20
        }
      ]
    },
    {
      "cell_type": "code",
      "metadata": {
        "id": "rW-3TwjDgeA-"
      },
      "source": [
        "x = []\n",
        "y = []\n",
        "for index, row in train_data_new.iterrows():\n",
        "  if(row[\"retweet_count\"] > 0):\n",
        "    x.append(row[2])\n",
        "    y.append(row[1])"
      ],
      "execution_count": 21,
      "outputs": []
    },
    {
      "cell_type": "code",
      "metadata": {
        "colab": {
          "base_uri": "https://localhost:8080/"
        },
        "id": "3cUJZgVgi_CF",
        "outputId": "c1b25990-1a1e-47a0-980a-cfe55a81a4e8"
      },
      "source": [
        "len(y)"
      ],
      "execution_count": null,
      "outputs": [
        {
          "output_type": "execute_result",
          "data": {
            "text/plain": [
              "242974"
            ]
          },
          "metadata": {
            "tags": []
          },
          "execution_count": 13
        }
      ]
    },
    {
      "cell_type": "code",
      "metadata": {
        "id": "dzRhKIu_iOvQ"
      },
      "source": [
        "train_data_new = pd.DataFrame({'retweet_count': y, 'text': x}, columns=['retweet_count', 'text'])"
      ],
      "execution_count": 22,
      "outputs": []
    },
    {
      "cell_type": "code",
      "metadata": {
        "colab": {
          "base_uri": "https://localhost:8080/"
        },
        "id": "5X0iftIogr2s",
        "outputId": "398cc51d-e73a-455d-e915-8f2b58227ebe"
      },
      "source": [
        "train_data_new[\"retweet_count\"][4232]"
      ],
      "execution_count": 23,
      "outputs": [
        {
          "output_type": "execute_result",
          "data": {
            "text/plain": [
              "2"
            ]
          },
          "metadata": {
            "tags": []
          },
          "execution_count": 23
        }
      ]
    },
    {
      "cell_type": "code",
      "metadata": {
        "colab": {
          "base_uri": "https://localhost:8080/"
        },
        "id": "R9tBPVt3GvsM",
        "outputId": "395486cb-6c69-45c6-cfb1-d51ac59d5100"
      },
      "source": [
        "tweet_length = 100\n",
        "x_train = train_data_new.copy(deep='true')\n",
        "print(\"Shape Training Tweet Data: \" + str(x_train.shape))\n",
        "print(\"Maximum Tweet length: {}\".format(len(max((train_data_new.text), key=len))))\n",
        "print(\"Minimum Tweet length: {}\".format(len(min((train_data_new.text), key=len))))\n",
        "result = [len(x) for x in train_data_new]\n",
        "print(\"Mean Tweet length: {}\".format(np.mean(result)))"
      ],
      "execution_count": 24,
      "outputs": [
        {
          "output_type": "stream",
          "text": [
            "Shape Training Tweet Data: (242974, 2)\n",
            "Maximum Tweet length: 987\n",
            "Minimum Tweet length: 1\n",
            "Mean Tweet length: 8.5\n"
          ],
          "name": "stdout"
        }
      ]
    },
    {
      "cell_type": "markdown",
      "metadata": {
        "id": "nKGjgTjJRwYR"
      },
      "source": [
        "# Pre-Processing\n"
      ]
    },
    {
      "cell_type": "markdown",
      "metadata": {
        "id": "sYGS9FonTKhg"
      },
      "source": [
        "We need to make sure that our reviews are of a uniform length. This is for the LSTM's parameters.\n",
        "\n",
        "Some reviews will need to be truncated, while others need to be padded."
      ]
    },
    {
      "cell_type": "code",
      "metadata": {
        "id": "NPOrNdfdtaRa"
      },
      "source": [
        "# Some basic helper functions to clean text by removing urls, emojis, html tags and punctuations.\n",
        "import re, string\n",
        "from verstack.stratified_continuous_split import scsplit\n",
        "\n",
        "def remove_URL(text):\n",
        "    url = re.compile(r'https?://\\S+|www\\.\\S+')\n",
        "    return url.sub(r'', text)\n",
        "\n",
        "\n",
        "def remove_emoji(text):\n",
        "    emoji_pattern = re.compile(\n",
        "        '['\n",
        "        u'\\U0001F600-\\U0001F64F'  # emoticons\n",
        "        u'\\U0001F300-\\U0001F5FF'  # symbols & pictographs\n",
        "        u'\\U0001F680-\\U0001F6FF'  # transport & map symbols\n",
        "        u'\\U0001F1E0-\\U0001F1FF'  # flags (iOS)\n",
        "        u'\\U00002702-\\U000027B0'\n",
        "        u'\\U000024C2-\\U0001F251'\n",
        "        ']+',\n",
        "        flags=re.UNICODE)\n",
        "    return emoji_pattern.sub(r'', text)\n",
        "\n",
        "\n",
        "def remove_html(text):\n",
        "    html = re.compile(r'<.*?>|&([a-z0-9]+|#[0-9]{1,6}|#x[0-9a-f]{1,6});')\n",
        "    return re.sub(html, '', text)\n",
        "\n",
        "\n",
        "def remove_punct(text):\n",
        "    table = str.maketrans('', '', string.punctuation)\n",
        "    return text.translate(table)"
      ],
      "execution_count": 25,
      "outputs": []
    },
    {
      "cell_type": "code",
      "metadata": {
        "colab": {
          "base_uri": "https://localhost:8080/",
          "height": 195
        },
        "id": "C5GOWlaFtr3m",
        "outputId": "9d62b410-b8bb-43f0-db14-a08dd0fe23f6"
      },
      "source": [
        "train_data_new['text'] = train_data_new['text'].apply(lambda x: remove_URL(x))\n",
        "train_data_new['text'] = train_data_new['text'].apply(lambda x: remove_emoji(x))\n",
        "train_data_new['text'] = train_data_new['text'].apply(lambda x: remove_html(x))\n",
        "train_data_new['text'] = train_data_new['text'].apply(lambda x: remove_punct(x))\n",
        "train_data_new.sample(5)"
      ],
      "execution_count": 26,
      "outputs": [
        {
          "output_type": "execute_result",
          "data": {
            "text/html": [
              "<div>\n",
              "<style scoped>\n",
              "    .dataframe tbody tr th:only-of-type {\n",
              "        vertical-align: middle;\n",
              "    }\n",
              "\n",
              "    .dataframe tbody tr th {\n",
              "        vertical-align: top;\n",
              "    }\n",
              "\n",
              "    .dataframe thead th {\n",
              "        text-align: right;\n",
              "    }\n",
              "</style>\n",
              "<table border=\"1\" class=\"dataframe\">\n",
              "  <thead>\n",
              "    <tr style=\"text-align: right;\">\n",
              "      <th></th>\n",
              "      <th>retweet_count</th>\n",
              "      <th>text</th>\n",
              "    </tr>\n",
              "  </thead>\n",
              "  <tbody>\n",
              "    <tr>\n",
              "      <th>215626</th>\n",
              "      <td>3</td>\n",
              "      <td>The coronavirus is having a huge impact on our...</td>\n",
              "    </tr>\n",
              "    <tr>\n",
              "      <th>180173</th>\n",
              "      <td>1</td>\n",
              "      <td>Excellent piece by amyyqin and co at the NYT a...</td>\n",
              "    </tr>\n",
              "    <tr>\n",
              "      <th>207777</th>\n",
              "      <td>210</td>\n",
              "      <td>Shri RahulGandhi ji will be interacting with t...</td>\n",
              "    </tr>\n",
              "    <tr>\n",
              "      <th>74271</th>\n",
              "      <td>1</td>\n",
              "      <td>NYCMayor worldflood1 About that our friends ac...</td>\n",
              "    </tr>\n",
              "    <tr>\n",
              "      <th>218200</th>\n",
              "      <td>973</td>\n",
              "      <td>As a survivor myself I believe JoeBiden\\n\\nRea...</td>\n",
              "    </tr>\n",
              "  </tbody>\n",
              "</table>\n",
              "</div>"
            ],
            "text/plain": [
              "        retweet_count                                               text\n",
              "215626              3  The coronavirus is having a huge impact on our...\n",
              "180173              1  Excellent piece by amyyqin and co at the NYT a...\n",
              "207777            210  Shri RahulGandhi ji will be interacting with t...\n",
              "74271               1  NYCMayor worldflood1 About that our friends ac...\n",
              "218200            973  As a survivor myself I believe JoeBiden\\n\\nRea..."
            ]
          },
          "metadata": {
            "tags": []
          },
          "execution_count": 26
        }
      ]
    },
    {
      "cell_type": "code",
      "metadata": {
        "colab": {
          "base_uri": "https://localhost:8080/",
          "height": 195
        },
        "id": "kYcdI16MIdEn",
        "outputId": "bb0d68ad-f95a-4a0a-935e-d3823063651b"
      },
      "source": [
        "# tokenizing\n",
        "train_data_new['tokenized'] = train_data_new['text'].apply(word_tokenize)\n",
        "train_data_new.head()"
      ],
      "execution_count": 27,
      "outputs": [
        {
          "output_type": "execute_result",
          "data": {
            "text/html": [
              "<div>\n",
              "<style scoped>\n",
              "    .dataframe tbody tr th:only-of-type {\n",
              "        vertical-align: middle;\n",
              "    }\n",
              "\n",
              "    .dataframe tbody tr th {\n",
              "        vertical-align: top;\n",
              "    }\n",
              "\n",
              "    .dataframe thead th {\n",
              "        text-align: right;\n",
              "    }\n",
              "</style>\n",
              "<table border=\"1\" class=\"dataframe\">\n",
              "  <thead>\n",
              "    <tr style=\"text-align: right;\">\n",
              "      <th></th>\n",
              "      <th>retweet_count</th>\n",
              "      <th>text</th>\n",
              "      <th>tokenized</th>\n",
              "    </tr>\n",
              "  </thead>\n",
              "  <tbody>\n",
              "    <tr>\n",
              "      <th>0</th>\n",
              "      <td>2</td>\n",
              "      <td>Extremely valid points being made here  Ethiop...</td>\n",
              "      <td>[Extremely, valid, points, being, made, here, ...</td>\n",
              "    </tr>\n",
              "    <tr>\n",
              "      <th>1</th>\n",
              "      <td>1</td>\n",
              "      <td>COVID19 dominated the discussion Tuesday at a ...</td>\n",
              "      <td>[COVID19, dominated, the, discussion, Tuesday,...</td>\n",
              "    </tr>\n",
              "    <tr>\n",
              "      <th>2</th>\n",
              "      <td>2</td>\n",
              "      <td>Man Caught With Pipe Bombs Was Planning Armed ...</td>\n",
              "      <td>[Man, Caught, With, Pipe, Bombs, Was, Planning...</td>\n",
              "    </tr>\n",
              "    <tr>\n",
              "      <th>3</th>\n",
              "      <td>5</td>\n",
              "      <td>Quarantine measures imposed as a response to t...</td>\n",
              "      <td>[Quarantine, measures, imposed, as, a, respons...</td>\n",
              "    </tr>\n",
              "    <tr>\n",
              "      <th>4</th>\n",
              "      <td>2</td>\n",
              "      <td>Why does Superstitious times Stupid always equ...</td>\n",
              "      <td>[Why, does, Superstitious, times, Stupid, alwa...</td>\n",
              "    </tr>\n",
              "  </tbody>\n",
              "</table>\n",
              "</div>"
            ],
            "text/plain": [
              "   retweet_count  ...                                          tokenized\n",
              "0              2  ...  [Extremely, valid, points, being, made, here, ...\n",
              "1              1  ...  [COVID19, dominated, the, discussion, Tuesday,...\n",
              "2              2  ...  [Man, Caught, With, Pipe, Bombs, Was, Planning...\n",
              "3              5  ...  [Quarantine, measures, imposed, as, a, respons...\n",
              "4              2  ...  [Why, does, Superstitious, times, Stupid, alwa...\n",
              "\n",
              "[5 rows x 3 columns]"
            ]
          },
          "metadata": {
            "tags": []
          },
          "execution_count": 27
        }
      ]
    },
    {
      "cell_type": "code",
      "metadata": {
        "colab": {
          "base_uri": "https://localhost:8080/",
          "height": 195
        },
        "id": "dQ2akQRCay4h",
        "outputId": "b2831d81-12ee-4cff-bccb-c08b779b28af"
      },
      "source": [
        "#lower case\n",
        "train_data_new['lower'] = train_data_new['tokenized'].apply(lambda x: [word.lower() for word in x])\n",
        "train_data_new.head()"
      ],
      "execution_count": 28,
      "outputs": [
        {
          "output_type": "execute_result",
          "data": {
            "text/html": [
              "<div>\n",
              "<style scoped>\n",
              "    .dataframe tbody tr th:only-of-type {\n",
              "        vertical-align: middle;\n",
              "    }\n",
              "\n",
              "    .dataframe tbody tr th {\n",
              "        vertical-align: top;\n",
              "    }\n",
              "\n",
              "    .dataframe thead th {\n",
              "        text-align: right;\n",
              "    }\n",
              "</style>\n",
              "<table border=\"1\" class=\"dataframe\">\n",
              "  <thead>\n",
              "    <tr style=\"text-align: right;\">\n",
              "      <th></th>\n",
              "      <th>retweet_count</th>\n",
              "      <th>text</th>\n",
              "      <th>tokenized</th>\n",
              "      <th>lower</th>\n",
              "    </tr>\n",
              "  </thead>\n",
              "  <tbody>\n",
              "    <tr>\n",
              "      <th>0</th>\n",
              "      <td>2</td>\n",
              "      <td>Extremely valid points being made here  Ethiop...</td>\n",
              "      <td>[Extremely, valid, points, being, made, here, ...</td>\n",
              "      <td>[extremely, valid, points, being, made, here, ...</td>\n",
              "    </tr>\n",
              "    <tr>\n",
              "      <th>1</th>\n",
              "      <td>1</td>\n",
              "      <td>COVID19 dominated the discussion Tuesday at a ...</td>\n",
              "      <td>[COVID19, dominated, the, discussion, Tuesday,...</td>\n",
              "      <td>[covid19, dominated, the, discussion, tuesday,...</td>\n",
              "    </tr>\n",
              "    <tr>\n",
              "      <th>2</th>\n",
              "      <td>2</td>\n",
              "      <td>Man Caught With Pipe Bombs Was Planning Armed ...</td>\n",
              "      <td>[Man, Caught, With, Pipe, Bombs, Was, Planning...</td>\n",
              "      <td>[man, caught, with, pipe, bombs, was, planning...</td>\n",
              "    </tr>\n",
              "    <tr>\n",
              "      <th>3</th>\n",
              "      <td>5</td>\n",
              "      <td>Quarantine measures imposed as a response to t...</td>\n",
              "      <td>[Quarantine, measures, imposed, as, a, respons...</td>\n",
              "      <td>[quarantine, measures, imposed, as, a, respons...</td>\n",
              "    </tr>\n",
              "    <tr>\n",
              "      <th>4</th>\n",
              "      <td>2</td>\n",
              "      <td>Why does Superstitious times Stupid always equ...</td>\n",
              "      <td>[Why, does, Superstitious, times, Stupid, alwa...</td>\n",
              "      <td>[why, does, superstitious, times, stupid, alwa...</td>\n",
              "    </tr>\n",
              "  </tbody>\n",
              "</table>\n",
              "</div>"
            ],
            "text/plain": [
              "   retweet_count  ...                                              lower\n",
              "0              2  ...  [extremely, valid, points, being, made, here, ...\n",
              "1              1  ...  [covid19, dominated, the, discussion, tuesday,...\n",
              "2              2  ...  [man, caught, with, pipe, bombs, was, planning...\n",
              "3              5  ...  [quarantine, measures, imposed, as, a, respons...\n",
              "4              2  ...  [why, does, superstitious, times, stupid, alwa...\n",
              "\n",
              "[5 rows x 4 columns]"
            ]
          },
          "metadata": {
            "tags": []
          },
          "execution_count": 28
        }
      ]
    },
    {
      "cell_type": "code",
      "metadata": {
        "colab": {
          "base_uri": "https://localhost:8080/",
          "height": 246
        },
        "id": "3u02rTIjJHJL",
        "outputId": "d010c610-4cc4-458f-b452-d7ede44e1952"
      },
      "source": [
        "#removing stopwords\n",
        "stop = set(stopwords.words('english'))\n",
        "train_data_new['stopwords_removed'] = train_data_new['lower'].apply(lambda x: [word for word in x if word not in stop])\n",
        "train_data_new.head()"
      ],
      "execution_count": 29,
      "outputs": [
        {
          "output_type": "execute_result",
          "data": {
            "text/html": [
              "<div>\n",
              "<style scoped>\n",
              "    .dataframe tbody tr th:only-of-type {\n",
              "        vertical-align: middle;\n",
              "    }\n",
              "\n",
              "    .dataframe tbody tr th {\n",
              "        vertical-align: top;\n",
              "    }\n",
              "\n",
              "    .dataframe thead th {\n",
              "        text-align: right;\n",
              "    }\n",
              "</style>\n",
              "<table border=\"1\" class=\"dataframe\">\n",
              "  <thead>\n",
              "    <tr style=\"text-align: right;\">\n",
              "      <th></th>\n",
              "      <th>retweet_count</th>\n",
              "      <th>text</th>\n",
              "      <th>tokenized</th>\n",
              "      <th>lower</th>\n",
              "      <th>stopwords_removed</th>\n",
              "    </tr>\n",
              "  </thead>\n",
              "  <tbody>\n",
              "    <tr>\n",
              "      <th>0</th>\n",
              "      <td>2</td>\n",
              "      <td>Extremely valid points being made here  Ethiop...</td>\n",
              "      <td>[Extremely, valid, points, being, made, here, ...</td>\n",
              "      <td>[extremely, valid, points, being, made, here, ...</td>\n",
              "      <td>[extremely, valid, points, made, ethiopia, gre...</td>\n",
              "    </tr>\n",
              "    <tr>\n",
              "      <th>1</th>\n",
              "      <td>1</td>\n",
              "      <td>COVID19 dominated the discussion Tuesday at a ...</td>\n",
              "      <td>[COVID19, dominated, the, discussion, Tuesday,...</td>\n",
              "      <td>[covid19, dominated, the, discussion, tuesday,...</td>\n",
              "      <td>[covid19, dominated, discussion, tuesday, meet...</td>\n",
              "    </tr>\n",
              "    <tr>\n",
              "      <th>2</th>\n",
              "      <td>2</td>\n",
              "      <td>Man Caught With Pipe Bombs Was Planning Armed ...</td>\n",
              "      <td>[Man, Caught, With, Pipe, Bombs, Was, Planning...</td>\n",
              "      <td>[man, caught, with, pipe, bombs, was, planning...</td>\n",
              "      <td>[man, caught, pipe, bombs, planning, armed, pr...</td>\n",
              "    </tr>\n",
              "    <tr>\n",
              "      <th>3</th>\n",
              "      <td>5</td>\n",
              "      <td>Quarantine measures imposed as a response to t...</td>\n",
              "      <td>[Quarantine, measures, imposed, as, a, respons...</td>\n",
              "      <td>[quarantine, measures, imposed, as, a, respons...</td>\n",
              "      <td>[quarantine, measures, imposed, response, covi...</td>\n",
              "    </tr>\n",
              "    <tr>\n",
              "      <th>4</th>\n",
              "      <td>2</td>\n",
              "      <td>Why does Superstitious times Stupid always equ...</td>\n",
              "      <td>[Why, does, Superstitious, times, Stupid, alwa...</td>\n",
              "      <td>[why, does, superstitious, times, stupid, alwa...</td>\n",
              "      <td>[superstitious, times, stupid, always, equal, ...</td>\n",
              "    </tr>\n",
              "  </tbody>\n",
              "</table>\n",
              "</div>"
            ],
            "text/plain": [
              "   retweet_count  ...                                  stopwords_removed\n",
              "0              2  ...  [extremely, valid, points, made, ethiopia, gre...\n",
              "1              1  ...  [covid19, dominated, discussion, tuesday, meet...\n",
              "2              2  ...  [man, caught, pipe, bombs, planning, armed, pr...\n",
              "3              5  ...  [quarantine, measures, imposed, response, covi...\n",
              "4              2  ...  [superstitious, times, stupid, always, equal, ...\n",
              "\n",
              "[5 rows x 5 columns]"
            ]
          },
          "metadata": {
            "tags": []
          },
          "execution_count": 29
        }
      ]
    },
    {
      "cell_type": "code",
      "metadata": {
        "id": "2PH63A-TMtlD",
        "colab": {
          "base_uri": "https://localhost:8080/",
          "height": 279
        },
        "outputId": "89de63ba-54c8-45c1-d9ed-d3673faf3fc9"
      },
      "source": [
        "train_data_new['pos_tags'] = train_data_new['stopwords_removed'].apply(nltk.tag.pos_tag)\n",
        "train_data_new.head()"
      ],
      "execution_count": 30,
      "outputs": [
        {
          "output_type": "execute_result",
          "data": {
            "text/html": [
              "<div>\n",
              "<style scoped>\n",
              "    .dataframe tbody tr th:only-of-type {\n",
              "        vertical-align: middle;\n",
              "    }\n",
              "\n",
              "    .dataframe tbody tr th {\n",
              "        vertical-align: top;\n",
              "    }\n",
              "\n",
              "    .dataframe thead th {\n",
              "        text-align: right;\n",
              "    }\n",
              "</style>\n",
              "<table border=\"1\" class=\"dataframe\">\n",
              "  <thead>\n",
              "    <tr style=\"text-align: right;\">\n",
              "      <th></th>\n",
              "      <th>retweet_count</th>\n",
              "      <th>text</th>\n",
              "      <th>tokenized</th>\n",
              "      <th>lower</th>\n",
              "      <th>stopwords_removed</th>\n",
              "      <th>pos_tags</th>\n",
              "    </tr>\n",
              "  </thead>\n",
              "  <tbody>\n",
              "    <tr>\n",
              "      <th>0</th>\n",
              "      <td>2</td>\n",
              "      <td>Extremely valid points being made here  Ethiop...</td>\n",
              "      <td>[Extremely, valid, points, being, made, here, ...</td>\n",
              "      <td>[extremely, valid, points, being, made, here, ...</td>\n",
              "      <td>[extremely, valid, points, made, ethiopia, gre...</td>\n",
              "      <td>[(extremely, RB), (valid, JJ), (points, NNS), ...</td>\n",
              "    </tr>\n",
              "    <tr>\n",
              "      <th>1</th>\n",
              "      <td>1</td>\n",
              "      <td>COVID19 dominated the discussion Tuesday at a ...</td>\n",
              "      <td>[COVID19, dominated, the, discussion, Tuesday,...</td>\n",
              "      <td>[covid19, dominated, the, discussion, tuesday,...</td>\n",
              "      <td>[covid19, dominated, discussion, tuesday, meet...</td>\n",
              "      <td>[(covid19, NN), (dominated, VBN), (discussion,...</td>\n",
              "    </tr>\n",
              "    <tr>\n",
              "      <th>2</th>\n",
              "      <td>2</td>\n",
              "      <td>Man Caught With Pipe Bombs Was Planning Armed ...</td>\n",
              "      <td>[Man, Caught, With, Pipe, Bombs, Was, Planning...</td>\n",
              "      <td>[man, caught, with, pipe, bombs, was, planning...</td>\n",
              "      <td>[man, caught, pipe, bombs, planning, armed, pr...</td>\n",
              "      <td>[(man, NN), (caught, VBD), (pipe, JJ), (bombs,...</td>\n",
              "    </tr>\n",
              "    <tr>\n",
              "      <th>3</th>\n",
              "      <td>5</td>\n",
              "      <td>Quarantine measures imposed as a response to t...</td>\n",
              "      <td>[Quarantine, measures, imposed, as, a, respons...</td>\n",
              "      <td>[quarantine, measures, imposed, as, a, respons...</td>\n",
              "      <td>[quarantine, measures, imposed, response, covi...</td>\n",
              "      <td>[(quarantine, NN), (measures, NNS), (imposed, ...</td>\n",
              "    </tr>\n",
              "    <tr>\n",
              "      <th>4</th>\n",
              "      <td>2</td>\n",
              "      <td>Why does Superstitious times Stupid always equ...</td>\n",
              "      <td>[Why, does, Superstitious, times, Stupid, alwa...</td>\n",
              "      <td>[why, does, superstitious, times, stupid, alwa...</td>\n",
              "      <td>[superstitious, times, stupid, always, equal, ...</td>\n",
              "      <td>[(superstitious, JJ), (times, NNS), (stupid, J...</td>\n",
              "    </tr>\n",
              "  </tbody>\n",
              "</table>\n",
              "</div>"
            ],
            "text/plain": [
              "   retweet_count  ...                                           pos_tags\n",
              "0              2  ...  [(extremely, RB), (valid, JJ), (points, NNS), ...\n",
              "1              1  ...  [(covid19, NN), (dominated, VBN), (discussion,...\n",
              "2              2  ...  [(man, NN), (caught, VBD), (pipe, JJ), (bombs,...\n",
              "3              5  ...  [(quarantine, NN), (measures, NNS), (imposed, ...\n",
              "4              2  ...  [(superstitious, JJ), (times, NNS), (stupid, J...\n",
              "\n",
              "[5 rows x 6 columns]"
            ]
          },
          "metadata": {
            "tags": []
          },
          "execution_count": 30
        }
      ]
    },
    {
      "cell_type": "code",
      "metadata": {
        "id": "9Y6s0K8dM85I"
      },
      "source": [
        "def get_wordnet_pos(tag):\n",
        "    if tag.startswith('J'):\n",
        "        return wordnet.ADJ\n",
        "    elif tag.startswith('V'):\n",
        "        return wordnet.VERB\n",
        "    elif tag.startswith('N'):\n",
        "        return wordnet.NOUN\n",
        "    elif tag.startswith('R'):\n",
        "        return wordnet.ADV\n",
        "    else:\n",
        "        return wordnet.NOUN"
      ],
      "execution_count": 31,
      "outputs": []
    },
    {
      "cell_type": "code",
      "metadata": {
        "id": "r48z2yR2Nehx",
        "colab": {
          "base_uri": "https://localhost:8080/",
          "height": 279
        },
        "outputId": "45a3298c-b4b4-4e1b-dd1f-c74528d192e5"
      },
      "source": [
        "train_data_new['wordnet_pos'] = train_data_new['pos_tags'].apply(lambda x: [(word, get_wordnet_pos(pos_tag)) for (word, pos_tag) in x])\n",
        "train_data_new.head()"
      ],
      "execution_count": 32,
      "outputs": [
        {
          "output_type": "execute_result",
          "data": {
            "text/html": [
              "<div>\n",
              "<style scoped>\n",
              "    .dataframe tbody tr th:only-of-type {\n",
              "        vertical-align: middle;\n",
              "    }\n",
              "\n",
              "    .dataframe tbody tr th {\n",
              "        vertical-align: top;\n",
              "    }\n",
              "\n",
              "    .dataframe thead th {\n",
              "        text-align: right;\n",
              "    }\n",
              "</style>\n",
              "<table border=\"1\" class=\"dataframe\">\n",
              "  <thead>\n",
              "    <tr style=\"text-align: right;\">\n",
              "      <th></th>\n",
              "      <th>retweet_count</th>\n",
              "      <th>text</th>\n",
              "      <th>tokenized</th>\n",
              "      <th>lower</th>\n",
              "      <th>stopwords_removed</th>\n",
              "      <th>pos_tags</th>\n",
              "      <th>wordnet_pos</th>\n",
              "    </tr>\n",
              "  </thead>\n",
              "  <tbody>\n",
              "    <tr>\n",
              "      <th>0</th>\n",
              "      <td>2</td>\n",
              "      <td>Extremely valid points being made here  Ethiop...</td>\n",
              "      <td>[Extremely, valid, points, being, made, here, ...</td>\n",
              "      <td>[extremely, valid, points, being, made, here, ...</td>\n",
              "      <td>[extremely, valid, points, made, ethiopia, gre...</td>\n",
              "      <td>[(extremely, RB), (valid, JJ), (points, NNS), ...</td>\n",
              "      <td>[(extremely, r), (valid, a), (points, n), (mad...</td>\n",
              "    </tr>\n",
              "    <tr>\n",
              "      <th>1</th>\n",
              "      <td>1</td>\n",
              "      <td>COVID19 dominated the discussion Tuesday at a ...</td>\n",
              "      <td>[COVID19, dominated, the, discussion, Tuesday,...</td>\n",
              "      <td>[covid19, dominated, the, discussion, tuesday,...</td>\n",
              "      <td>[covid19, dominated, discussion, tuesday, meet...</td>\n",
              "      <td>[(covid19, NN), (dominated, VBN), (discussion,...</td>\n",
              "      <td>[(covid19, n), (dominated, v), (discussion, n)...</td>\n",
              "    </tr>\n",
              "    <tr>\n",
              "      <th>2</th>\n",
              "      <td>2</td>\n",
              "      <td>Man Caught With Pipe Bombs Was Planning Armed ...</td>\n",
              "      <td>[Man, Caught, With, Pipe, Bombs, Was, Planning...</td>\n",
              "      <td>[man, caught, with, pipe, bombs, was, planning...</td>\n",
              "      <td>[man, caught, pipe, bombs, planning, armed, pr...</td>\n",
              "      <td>[(man, NN), (caught, VBD), (pipe, JJ), (bombs,...</td>\n",
              "      <td>[(man, n), (caught, v), (pipe, a), (bombs, n),...</td>\n",
              "    </tr>\n",
              "    <tr>\n",
              "      <th>3</th>\n",
              "      <td>5</td>\n",
              "      <td>Quarantine measures imposed as a response to t...</td>\n",
              "      <td>[Quarantine, measures, imposed, as, a, respons...</td>\n",
              "      <td>[quarantine, measures, imposed, as, a, respons...</td>\n",
              "      <td>[quarantine, measures, imposed, response, covi...</td>\n",
              "      <td>[(quarantine, NN), (measures, NNS), (imposed, ...</td>\n",
              "      <td>[(quarantine, n), (measures, n), (imposed, v),...</td>\n",
              "    </tr>\n",
              "    <tr>\n",
              "      <th>4</th>\n",
              "      <td>2</td>\n",
              "      <td>Why does Superstitious times Stupid always equ...</td>\n",
              "      <td>[Why, does, Superstitious, times, Stupid, alwa...</td>\n",
              "      <td>[why, does, superstitious, times, stupid, alwa...</td>\n",
              "      <td>[superstitious, times, stupid, always, equal, ...</td>\n",
              "      <td>[(superstitious, JJ), (times, NNS), (stupid, J...</td>\n",
              "      <td>[(superstitious, a), (times, n), (stupid, a), ...</td>\n",
              "    </tr>\n",
              "  </tbody>\n",
              "</table>\n",
              "</div>"
            ],
            "text/plain": [
              "   retweet_count  ...                                        wordnet_pos\n",
              "0              2  ...  [(extremely, r), (valid, a), (points, n), (mad...\n",
              "1              1  ...  [(covid19, n), (dominated, v), (discussion, n)...\n",
              "2              2  ...  [(man, n), (caught, v), (pipe, a), (bombs, n),...\n",
              "3              5  ...  [(quarantine, n), (measures, n), (imposed, v),...\n",
              "4              2  ...  [(superstitious, a), (times, n), (stupid, a), ...\n",
              "\n",
              "[5 rows x 7 columns]"
            ]
          },
          "metadata": {
            "tags": []
          },
          "execution_count": 32
        }
      ]
    },
    {
      "cell_type": "code",
      "metadata": {
        "id": "RzvMXd-DNzTu",
        "colab": {
          "base_uri": "https://localhost:8080/",
          "height": 363
        },
        "outputId": "0a24f025-7ce3-403e-abc5-967d991eed1b"
      },
      "source": [
        "# Applying word lemmatizer.\n",
        "\n",
        "wnl = WordNetLemmatizer()\n",
        "train_data_new['lemmatized'] = train_data_new['wordnet_pos'].apply(lambda x: [wnl.lemmatize(word, tag) for word, tag in x])\n",
        "train_data_new['lemmatized'] = train_data_new['lemmatized'].apply(lambda x: [word for word in x if word not in stop])\n",
        "train_data_new['lemma_str'] = [' '.join(map(str, l)) for l in train_data_new['lemmatized']]\n",
        "train_data_new.head()"
      ],
      "execution_count": 33,
      "outputs": [
        {
          "output_type": "execute_result",
          "data": {
            "text/html": [
              "<div>\n",
              "<style scoped>\n",
              "    .dataframe tbody tr th:only-of-type {\n",
              "        vertical-align: middle;\n",
              "    }\n",
              "\n",
              "    .dataframe tbody tr th {\n",
              "        vertical-align: top;\n",
              "    }\n",
              "\n",
              "    .dataframe thead th {\n",
              "        text-align: right;\n",
              "    }\n",
              "</style>\n",
              "<table border=\"1\" class=\"dataframe\">\n",
              "  <thead>\n",
              "    <tr style=\"text-align: right;\">\n",
              "      <th></th>\n",
              "      <th>retweet_count</th>\n",
              "      <th>text</th>\n",
              "      <th>tokenized</th>\n",
              "      <th>lower</th>\n",
              "      <th>stopwords_removed</th>\n",
              "      <th>pos_tags</th>\n",
              "      <th>wordnet_pos</th>\n",
              "      <th>lemmatized</th>\n",
              "      <th>lemma_str</th>\n",
              "    </tr>\n",
              "  </thead>\n",
              "  <tbody>\n",
              "    <tr>\n",
              "      <th>0</th>\n",
              "      <td>2</td>\n",
              "      <td>Extremely valid points being made here  Ethiop...</td>\n",
              "      <td>[Extremely, valid, points, being, made, here, ...</td>\n",
              "      <td>[extremely, valid, points, being, made, here, ...</td>\n",
              "      <td>[extremely, valid, points, made, ethiopia, gre...</td>\n",
              "      <td>[(extremely, RB), (valid, JJ), (points, NNS), ...</td>\n",
              "      <td>[(extremely, r), (valid, a), (points, n), (mad...</td>\n",
              "      <td>[extremely, valid, point, make, ethiopia, grea...</td>\n",
              "      <td>extremely valid point make ethiopia great time...</td>\n",
              "    </tr>\n",
              "    <tr>\n",
              "      <th>1</th>\n",
              "      <td>1</td>\n",
              "      <td>COVID19 dominated the discussion Tuesday at a ...</td>\n",
              "      <td>[COVID19, dominated, the, discussion, Tuesday,...</td>\n",
              "      <td>[covid19, dominated, the, discussion, tuesday,...</td>\n",
              "      <td>[covid19, dominated, discussion, tuesday, meet...</td>\n",
              "      <td>[(covid19, NN), (dominated, VBN), (discussion,...</td>\n",
              "      <td>[(covid19, n), (dominated, v), (discussion, n)...</td>\n",
              "      <td>[covid19, dominate, discussion, tuesday, meeti...</td>\n",
              "      <td>covid19 dominate discussion tuesday meeting go...</td>\n",
              "    </tr>\n",
              "    <tr>\n",
              "      <th>2</th>\n",
              "      <td>2</td>\n",
              "      <td>Man Caught With Pipe Bombs Was Planning Armed ...</td>\n",
              "      <td>[Man, Caught, With, Pipe, Bombs, Was, Planning...</td>\n",
              "      <td>[man, caught, with, pipe, bombs, was, planning...</td>\n",
              "      <td>[man, caught, pipe, bombs, planning, armed, pr...</td>\n",
              "      <td>[(man, NN), (caught, VBD), (pipe, JJ), (bombs,...</td>\n",
              "      <td>[(man, n), (caught, v), (pipe, a), (bombs, n),...</td>\n",
              "      <td>[man, catch, pipe, bomb, plan, arm, protest, c...</td>\n",
              "      <td>man catch pipe bomb plan arm protest covid19 r...</td>\n",
              "    </tr>\n",
              "    <tr>\n",
              "      <th>3</th>\n",
              "      <td>5</td>\n",
              "      <td>Quarantine measures imposed as a response to t...</td>\n",
              "      <td>[Quarantine, measures, imposed, as, a, respons...</td>\n",
              "      <td>[quarantine, measures, imposed, as, a, respons...</td>\n",
              "      <td>[quarantine, measures, imposed, response, covi...</td>\n",
              "      <td>[(quarantine, NN), (measures, NNS), (imposed, ...</td>\n",
              "      <td>[(quarantine, n), (measures, n), (imposed, v),...</td>\n",
              "      <td>[quarantine, measure, impose, response, covid1...</td>\n",
              "      <td>quarantine measure impose response covid19 pan...</td>\n",
              "    </tr>\n",
              "    <tr>\n",
              "      <th>4</th>\n",
              "      <td>2</td>\n",
              "      <td>Why does Superstitious times Stupid always equ...</td>\n",
              "      <td>[Why, does, Superstitious, times, Stupid, alwa...</td>\n",
              "      <td>[why, does, superstitious, times, stupid, alwa...</td>\n",
              "      <td>[superstitious, times, stupid, always, equal, ...</td>\n",
              "      <td>[(superstitious, JJ), (times, NNS), (stupid, J...</td>\n",
              "      <td>[(superstitious, a), (times, n), (stupid, a), ...</td>\n",
              "      <td>[superstitious, time, stupid, always, equal, a...</td>\n",
              "      <td>superstitious time stupid always equal animal ...</td>\n",
              "    </tr>\n",
              "  </tbody>\n",
              "</table>\n",
              "</div>"
            ],
            "text/plain": [
              "   retweet_count  ...                                          lemma_str\n",
              "0              2  ...  extremely valid point make ethiopia great time...\n",
              "1              1  ...  covid19 dominate discussion tuesday meeting go...\n",
              "2              2  ...  man catch pipe bomb plan arm protest covid19 r...\n",
              "3              5  ...  quarantine measure impose response covid19 pan...\n",
              "4              2  ...  superstitious time stupid always equal animal ...\n",
              "\n",
              "[5 rows x 9 columns]"
            ]
          },
          "metadata": {
            "tags": []
          },
          "execution_count": 33
        }
      ]
    },
    {
      "cell_type": "code",
      "metadata": {
        "id": "IY9LTzqQIuyF"
      },
      "source": [
        "x_train_final = train_data_new[[\"retweet_count\", \"lemma_str\"]]"
      ],
      "execution_count": 34,
      "outputs": []
    },
    {
      "cell_type": "code",
      "metadata": {
        "id": "jCN0JdW0UcAD"
      },
      "source": [
        "from collections import Counter\n",
        "def counter_word(text_r):\n",
        "  count = Counter()\n",
        "  for i in text_r:\n",
        "    for word_r in i.split():\n",
        "      count[word_r] += 1\n",
        "  return count"
      ],
      "execution_count": 35,
      "outputs": []
    },
    {
      "cell_type": "code",
      "metadata": {
        "id": "5IJkyFm3QS4x",
        "colab": {
          "base_uri": "https://localhost:8080/",
          "height": 402
        },
        "outputId": "339836ee-2880-42c1-d907-1cba19d95d1e"
      },
      "source": [
        "x_train_final"
      ],
      "execution_count": 36,
      "outputs": [
        {
          "output_type": "execute_result",
          "data": {
            "text/html": [
              "<div>\n",
              "<style scoped>\n",
              "    .dataframe tbody tr th:only-of-type {\n",
              "        vertical-align: middle;\n",
              "    }\n",
              "\n",
              "    .dataframe tbody tr th {\n",
              "        vertical-align: top;\n",
              "    }\n",
              "\n",
              "    .dataframe thead th {\n",
              "        text-align: right;\n",
              "    }\n",
              "</style>\n",
              "<table border=\"1\" class=\"dataframe\">\n",
              "  <thead>\n",
              "    <tr style=\"text-align: right;\">\n",
              "      <th></th>\n",
              "      <th>retweet_count</th>\n",
              "      <th>lemma_str</th>\n",
              "    </tr>\n",
              "  </thead>\n",
              "  <tbody>\n",
              "    <tr>\n",
              "      <th>0</th>\n",
              "      <td>2</td>\n",
              "      <td>extremely valid point make ethiopia great time...</td>\n",
              "    </tr>\n",
              "    <tr>\n",
              "      <th>1</th>\n",
              "      <td>1</td>\n",
              "      <td>covid19 dominate discussion tuesday meeting go...</td>\n",
              "    </tr>\n",
              "    <tr>\n",
              "      <th>2</th>\n",
              "      <td>2</td>\n",
              "      <td>man catch pipe bomb plan arm protest covid19 r...</td>\n",
              "    </tr>\n",
              "    <tr>\n",
              "      <th>3</th>\n",
              "      <td>5</td>\n",
              "      <td>quarantine measure impose response covid19 pan...</td>\n",
              "    </tr>\n",
              "    <tr>\n",
              "      <th>4</th>\n",
              "      <td>2</td>\n",
              "      <td>superstitious time stupid always equal animal ...</td>\n",
              "    </tr>\n",
              "    <tr>\n",
              "      <th>...</th>\n",
              "      <td>...</td>\n",
              "      <td>...</td>\n",
              "    </tr>\n",
              "    <tr>\n",
              "      <th>242969</th>\n",
              "      <td>3</td>\n",
              "      <td>vanathibjp narendramodi pmoindia jpnadda blsan...</td>\n",
              "    </tr>\n",
              "    <tr>\n",
              "      <th>242970</th>\n",
              "      <td>31</td>\n",
              "      <td>great video singapore raise awareness coronavi...</td>\n",
              "    </tr>\n",
              "    <tr>\n",
              "      <th>242971</th>\n",
              "      <td>1122</td>\n",
              "      <td>nhs protect overload force death take place ca...</td>\n",
              "    </tr>\n",
              "    <tr>\n",
              "      <th>242972</th>\n",
              "      <td>1</td>\n",
              "      <td>thank nurse stanfordemed family share covid19 ...</td>\n",
              "    </tr>\n",
              "    <tr>\n",
              "      <th>242973</th>\n",
              "      <td>8</td>\n",
              "      <td>post pearl palliative end life bereavement car...</td>\n",
              "    </tr>\n",
              "  </tbody>\n",
              "</table>\n",
              "<p>242974 rows × 2 columns</p>\n",
              "</div>"
            ],
            "text/plain": [
              "        retweet_count                                          lemma_str\n",
              "0                   2  extremely valid point make ethiopia great time...\n",
              "1                   1  covid19 dominate discussion tuesday meeting go...\n",
              "2                   2  man catch pipe bomb plan arm protest covid19 r...\n",
              "3                   5  quarantine measure impose response covid19 pan...\n",
              "4                   2  superstitious time stupid always equal animal ...\n",
              "...               ...                                                ...\n",
              "242969              3  vanathibjp narendramodi pmoindia jpnadda blsan...\n",
              "242970             31  great video singapore raise awareness coronavi...\n",
              "242971           1122  nhs protect overload force death take place ca...\n",
              "242972              1  thank nurse stanfordemed family share covid19 ...\n",
              "242973              8  post pearl palliative end life bereavement car...\n",
              "\n",
              "[242974 rows x 2 columns]"
            ]
          },
          "metadata": {
            "tags": []
          },
          "execution_count": 36
        }
      ]
    },
    {
      "cell_type": "code",
      "metadata": {
        "id": "PyOmhUXKVStS",
        "colab": {
          "base_uri": "https://localhost:8080/"
        },
        "outputId": "51c8cde9-430c-48c2-81c6-988b8da59b23"
      },
      "source": [
        "text = x_train_final[0:300000][\"lemma_str\"]\n",
        "counter = counter_word(text)\n",
        "num_words = len(counter)\n",
        "num_words"
      ],
      "execution_count": 38,
      "outputs": [
        {
          "output_type": "execute_result",
          "data": {
            "text/plain": [
              "310284"
            ]
          },
          "metadata": {
            "tags": []
          },
          "execution_count": 38
        }
      ]
    },
    {
      "cell_type": "code",
      "metadata": {
        "id": "G731tJvYVu1j"
      },
      "source": [
        "tokenizer = Tokenizer(num_words=num_words)\n",
        "tokenizer.fit_on_texts(x_train_final[\"lemma_str\"])"
      ],
      "execution_count": 39,
      "outputs": []
    },
    {
      "cell_type": "code",
      "metadata": {
        "id": "2QhxUzIPY2iQ",
        "colab": {
          "base_uri": "https://localhost:8080/"
        },
        "outputId": "46713fcb-120a-42f7-d22b-6b8a826c4eaa"
      },
      "source": [
        "word_index = tokenizer.word_index\n",
        "word_index"
      ],
      "execution_count": 40,
      "outputs": [
        {
          "output_type": "execute_result",
          "data": {
            "text/plain": [
              "{'covid19': 1,\n",
              " 'coronavirus': 2,\n",
              " '’': 3,\n",
              " 'people': 4,\n",
              " 'pandemic': 5,\n",
              " 'u': 6,\n",
              " 'new': 7,\n",
              " 'help': 8,\n",
              " 'say': 9,\n",
              " 'get': 10,\n",
              " 'test': 11,\n",
              " 'time': 12,\n",
              " 'need': 13,\n",
              " 'work': 14,\n",
              " 'death': 15,\n",
              " 'health': 16,\n",
              " 'case': 17,\n",
              " '“': 18,\n",
              " 'go': 19,\n",
              " 'make': 20,\n",
              " '”': 21,\n",
              " 'trump': 22,\n",
              " 'one': 23,\n",
              " 'support': 24,\n",
              " 'take': 25,\n",
              " 'state': 26,\n",
              " 'day': 27,\n",
              " 'may': 28,\n",
              " 'like': 29,\n",
              " 'lockdown': 30,\n",
              " 'today': 31,\n",
              " 'crisis': 32,\n",
              " 'home': 33,\n",
              " 'world': 34,\n",
              " 'see': 35,\n",
              " 'virus': 36,\n",
              " 'know': 37,\n",
              " 'worker': 38,\n",
              " 'government': 39,\n",
              " 'country': 40,\n",
              " 'use': 41,\n",
              " 'via': 42,\n",
              " 'care': 43,\n",
              " 'china': 44,\n",
              " 'please': 45,\n",
              " 'report': 46,\n",
              " 'response': 47,\n",
              " 'patient': 48,\n",
              " 'fight': 49,\n",
              " 'week': 50,\n",
              " 'community': 51,\n",
              " 'many': 52,\n",
              " 'come': 53,\n",
              " 'call': 54,\n",
              " 'die': 55,\n",
              " 'spread': 56,\n",
              " 'give': 57,\n",
              " 'read': 58,\n",
              " 'live': 59,\n",
              " 'de': 60,\n",
              " 'look': 61,\n",
              " 'business': 62,\n",
              " 'life': 63,\n",
              " 'want': 64,\n",
              " 'would': 65,\n",
              " 'keep': 66,\n",
              " 'first': 67,\n",
              " 'stay': 68,\n",
              " 'good': 69,\n",
              " 'due': 70,\n",
              " 'find': 71,\n",
              " 'way': 72,\n",
              " 'well': 73,\n",
              " 'news': 74,\n",
              " 'could': 75,\n",
              " 'right': 76,\n",
              " 'year': 77,\n",
              " 'family': 78,\n",
              " 'back': 79,\n",
              " 'show': 80,\n",
              " 'share': 81,\n",
              " 'think': 82,\n",
              " 'hospital': 83,\n",
              " 'join': 84,\n",
              " '1': 85,\n",
              " 'impact': 86,\n",
              " 'public': 87,\n",
              " 'mask': 88,\n",
              " 'great': 89,\n",
              " 'number': 90,\n",
              " 'even': 91,\n",
              " 'million': 92,\n",
              " 'thank': 93,\n",
              " 'let': 94,\n",
              " 'face': 95,\n",
              " 'social': 96,\n",
              " 'continue': 97,\n",
              " 'also': 98,\n",
              " 'still': 99,\n",
              " 'american': 100,\n",
              " '2': 101,\n",
              " 'uk': 102,\n",
              " 'president': 103,\n",
              " 'covid': 104,\n",
              " 'outbreak': 105,\n",
              " 'learn': 106,\n",
              " 'update': 107,\n",
              " 'watch': 108,\n",
              " '2020': 109,\n",
              " 'must': 110,\n",
              " 'positive': 111,\n",
              " '‘': 112,\n",
              " 'food': 113,\n",
              " 'dr': 114,\n",
              " 'provide': 115,\n",
              " 'tell': 116,\n",
              " 'vaccine': 117,\n",
              " 'global': 118,\n",
              " 'start': 119,\n",
              " 'child': 120,\n",
              " 'stop': 121,\n",
              " 'open': 122,\n",
              " 'free': 123,\n",
              " 'data': 124,\n",
              " 'plan': 125,\n",
              " 'include': 126,\n",
              " 'medical': 127,\n",
              " 'safe': 128,\n",
              " 'service': 129,\n",
              " 'month': 130,\n",
              " 'every': 131,\n",
              " 'dont': 132,\n",
              " 'video': 133,\n",
              " 'late': 134,\n",
              " 'high': 135,\n",
              " 'risk': 136,\n",
              " 'protect': 137,\n",
              " 'fund': 138,\n",
              " 'change': 139,\n",
              " 'thing': 140,\n",
              " 'la': 141,\n",
              " 'part': 142,\n",
              " 'last': 143,\n",
              " 'reopen': 144,\n",
              " 'ask': 145,\n",
              " 'team': 146,\n",
              " 'follow': 147,\n",
              " 'city': 148,\n",
              " 'economy': 149,\n",
              " 'doctor': 150,\n",
              " 'much': 151,\n",
              " 'order': 152,\n",
              " 'together': 153,\n",
              " 'check': 154,\n",
              " 'put': 155,\n",
              " 'story': 156,\n",
              " 'pay': 157,\n",
              " '3': 158,\n",
              " 'school': 159,\n",
              " 'big': 160,\n",
              " 'important': 161,\n",
              " 'around': 162,\n",
              " 'end': 163,\n",
              " 'everyone': 164,\n",
              " 'job': 165,\n",
              " 'student': 166,\n",
              " 'april': 167,\n",
              " 'question': 168,\n",
              " 'realdonaldtrump': 169,\n",
              " 'talk': 170,\n",
              " 'across': 171,\n",
              " 'two': 172,\n",
              " 'information': 173,\n",
              " 'next': 174,\n",
              " 'break': 175,\n",
              " 'donate': 176,\n",
              " 'staff': 177,\n",
              " 'online': 178,\n",
              " 'medium': 179,\n",
              " 'woman': 180,\n",
              " 'total': 181,\n",
              " 'effort': 182,\n",
              " 'relief': 183,\n",
              " 'force': 184,\n",
              " 'emergency': 185,\n",
              " 'challenge': 186,\n",
              " 'since': 187,\n",
              " 'try': 188,\n",
              " 'really': 189,\n",
              " 'india': 190,\n",
              " 'resource': 191,\n",
              " '4': 192,\n",
              " 'disease': 193,\n",
              " 'love': 194,\n",
              " '—': 195,\n",
              " 'research': 196,\n",
              " 'leave': 197,\n",
              " '5': 198,\n",
              " 'cause': 199,\n",
              " 'local': 200,\n",
              " 'thanks': 201,\n",
              " 'bad': 202,\n",
              " 'lead': 203,\n",
              " 'system': 204,\n",
              " 'release': 205,\n",
              " 'create': 206,\n",
              " 'post': 207,\n",
              " 'kill': 208,\n",
              " 'issue': 209,\n",
              " 'economic': 210,\n",
              " 'lose': 211,\n",
              " 'increase': 212,\n",
              " 'member': 213,\n",
              " 'close': 214,\n",
              " 'full': 215,\n",
              " 'national': 216,\n",
              " 'never': 217,\n",
              " 'hand': 218,\n",
              " 'corona': 219,\n",
              " 'healthcare': 220,\n",
              " 'save': 221,\n",
              " 'place': 222,\n",
              " 'rate': 223,\n",
              " 'another': 224,\n",
              " 'official': 225,\n",
              " 'company': 226,\n",
              " 'study': 227,\n",
              " 'money': 228,\n",
              " 'quarantine': 229,\n",
              " 'essential': 230,\n",
              " '–': 231,\n",
              " 'link': 232,\n",
              " 'expert': 233,\n",
              " 'daily': 234,\n",
              " 'leader': 235,\n",
              " 'without': 236,\n",
              " 'house': 237,\n",
              " 'bring': 238,\n",
              " 'available': 239,\n",
              " 'america': 240,\n",
              " 'mean': 241,\n",
              " 'best': 242,\n",
              " 'happen': 243,\n",
              " 'infection': 244,\n",
              " 'group': 245,\n",
              " 'amid': 246,\n",
              " 'visit': 247,\n",
              " 'hope': 248,\n",
              " 'county': 249,\n",
              " 'measure': 250,\n",
              " 'supply': 251,\n",
              " 'action': 252,\n",
              " 'pm': 253,\n",
              " 'human': 254,\n",
              " 'line': 255,\n",
              " 'hard': 256,\n",
              " 'article': 257,\n",
              " 'result': 258,\n",
              " 'confirm': 259,\n",
              " 'long': 260,\n",
              " 'hold': 261,\n",
              " 'nurse': 262,\n",
              " 'wear': 263,\n",
              " 'affect': 264,\n",
              " 'im': 265,\n",
              " 'ever': 266,\n",
              " 'allow': 267,\n",
              " 'access': 268,\n",
              " 'others': 269,\n",
              " 'send': 270,\n",
              " 'chinese': 271,\n",
              " 'govt': 272,\n",
              " 'contact': 273,\n",
              " 'already': 274,\n",
              " 'treatment': 275,\n",
              " 'write': 276,\n",
              " 'governor': 277,\n",
              " 'far': 278,\n",
              " '10': 279,\n",
              " 'sign': 280,\n",
              " 'feel': 281,\n",
              " 'begin': 282,\n",
              " 'ensure': 283,\n",
              " 'yet': 284,\n",
              " 'recovery': 285,\n",
              " 'run': 286,\n",
              " 'nation': 287,\n",
              " 'become': 288,\n",
              " 'en': 289,\n",
              " 'stayhome': 290,\n",
              " 'safety': 291,\n",
              " 'small': 292,\n",
              " 'future': 293,\n",
              " 'minister': 294,\n",
              " 'return': 295,\n",
              " 'lot': 296,\n",
              " 'lie': 297,\n",
              " 'announce': 298,\n",
              " 'claim': 299,\n",
              " 'bill': 300,\n",
              " 'away': 301,\n",
              " 'ppe': 302,\n",
              " 'offer': 303,\n",
              " 'hit': 304,\n",
              " 'wuhan': 305,\n",
              " 'experience': 306,\n",
              " 'real': 307,\n",
              " 'per': 308,\n",
              " 'act': 309,\n",
              " 'anyone': 310,\n",
              " 'receive': 311,\n",
              " 'hear': 312,\n",
              " 'distancing': 313,\n",
              " 'move': 314,\n",
              " 'friend': 315,\n",
              " 'listen': 316,\n",
              " 'believe': 317,\n",
              " 'policy': 318,\n",
              " 'develop': 319,\n",
              " 'vulnerable': 320,\n",
              " 'play': 321,\n",
              " 'industry': 322,\n",
              " 'situation': 323,\n",
              " 'police': 324,\n",
              " 'symptom': 325,\n",
              " 'cant': 326,\n",
              " 'webinar': 327,\n",
              " 'man': 328,\n",
              " 'project': 329,\n",
              " 'raise': 330,\n",
              " 'treat': 331,\n",
              " 'early': 332,\n",
              " 'control': 333,\n",
              " 'demand': 334,\n",
              " '6': 335,\n",
              " 'set': 336,\n",
              " 'resident': 337,\n",
              " 'el': 338,\n",
              " 'record': 339,\n",
              " 'launch': 340,\n",
              " 'federal': 341,\n",
              " 'un': 342,\n",
              " 'person': 343,\n",
              " 'sure': 344,\n",
              " 'prevent': 345,\n",
              " 'york': 346,\n",
              " 'toll': 347,\n",
              " 'w': 348,\n",
              " 'drug': 349,\n",
              " 'point': 350,\n",
              " 'market': 351,\n",
              " '30': 352,\n",
              " 'hour': 353,\n",
              " 'employee': 354,\n",
              " 'current': 355,\n",
              " 'gov': 356,\n",
              " 'key': 357,\n",
              " 'old': 358,\n",
              " 'flu': 359,\n",
              " 'step': 360,\n",
              " 'cover': 361,\n",
              " 'science': 362,\n",
              " 'rise': 363,\n",
              " 'concern': 364,\n",
              " 'program': 365,\n",
              " 'meet': 366,\n",
              " 'message': 367,\n",
              " 'answer': 368,\n",
              " 'partner': 369,\n",
              " 'white': 370,\n",
              " 'travel': 371,\n",
              " 'south': 372,\n",
              " 'area': 373,\n",
              " 'top': 374,\n",
              " 'fact': 375,\n",
              " 'discuss': 376,\n",
              " 'population': 377,\n",
              " 'lab': 378,\n",
              " '100': 379,\n",
              " 'someone': 380,\n",
              " 'scientist': 381,\n",
              " 'register': 382,\n",
              " 'thread': 383,\n",
              " 'war': 384,\n",
              " 'speak': 385,\n",
              " 'restriction': 386,\n",
              " 'fear': 387,\n",
              " 'nhs': 388,\n",
              " 'tomorrow': 389,\n",
              " 'miss': 390,\n",
              " 'que': 391,\n",
              " 'remember': 392,\n",
              " 'something': 393,\n",
              " 'virtual': 394,\n",
              " 'possible': 395,\n",
              " 'might': 396,\n",
              " 'recover': 397,\n",
              " 'turn': 398,\n",
              " 'always': 399,\n",
              " 'enough': 400,\n",
              " 'opportunity': 401,\n",
              " 'deal': 402,\n",
              " 'detail': 403,\n",
              " 'black': 404,\n",
              " 'frontline': 405,\n",
              " 'march': 406,\n",
              " 'soon': 407,\n",
              " 'understand': 408,\n",
              " 'low': 409,\n",
              " 'wait': 410,\n",
              " 'mental': 411,\n",
              " 'thousand': 412,\n",
              " 'ago': 413,\n",
              " 'reach': 414,\n",
              " 'warn': 415,\n",
              " 'center': 416,\n",
              " 'large': 417,\n",
              " 'prison': 418,\n",
              " 'consider': 419,\n",
              " 'le': 420,\n",
              " 'respond': 421,\n",
              " 'kid': 422,\n",
              " 'stayathome': 423,\n",
              " 'able': 424,\n",
              " 'event': 425,\n",
              " 'stand': 426,\n",
              " 'front': 427,\n",
              " 'app': 428,\n",
              " 'advice': 429,\n",
              " 'benefit': 430,\n",
              " 'address': 431,\n",
              " 'critical': 432,\n",
              " 'distance': 433,\n",
              " 'sick': 434,\n",
              " 'remain': 435,\n",
              " 'young': 436,\n",
              " 'evidence': 437,\n",
              " 'facility': 438,\n",
              " 'proud': 439,\n",
              " 'likely': 440,\n",
              " 'info': 441,\n",
              " 'power': 442,\n",
              " 'aid': 443,\n",
              " 'god': 444,\n",
              " 'problem': 445,\n",
              " '12': 446,\n",
              " 'least': 447,\n",
              " 'despite': 448,\n",
              " 'special': 449,\n",
              " 'second': 450,\n",
              " 'tweet': 451,\n",
              " 'different': 452,\n",
              " 'fauci': 453,\n",
              " 'dead': 454,\n",
              " 'press': 455,\n",
              " '7': 456,\n",
              " 'list': 457,\n",
              " 'three': 458,\n",
              " 'financial': 459,\n",
              " 'effect': 460,\n",
              " 'word': 461,\n",
              " '20': 462,\n",
              " 'campaign': 463,\n",
              " 'billion': 464,\n",
              " 'rule': 465,\n",
              " 'seem': 466,\n",
              " 'thats': 467,\n",
              " 'italy': 468,\n",
              " 'africa': 469,\n",
              " 'infect': 470,\n",
              " 'little': 471,\n",
              " 'explain': 472,\n",
              " 'के': 473,\n",
              " 'less': 474,\n",
              " 'head': 475,\n",
              " 'focus': 476,\n",
              " 'level': 477,\n",
              " 'university': 478,\n",
              " 'add': 479,\n",
              " 'survey': 480,\n",
              " 'accord': 481,\n",
              " 'international': 482,\n",
              " 'push': 483,\n",
              " 'donation': 484,\n",
              " 'education': 485,\n",
              " 'yesterday': 486,\n",
              " 'administration': 487,\n",
              " 'interview': 488,\n",
              " 'political': 489,\n",
              " 'law': 490,\n",
              " 'volunteer': 491,\n",
              " 'model': 492,\n",
              " 'fall': 493,\n",
              " 'nothing': 494,\n",
              " 'base': 495,\n",
              " 'threat': 496,\n",
              " 'vote': 497,\n",
              " 'strategy': 498,\n",
              " 'security': 499,\n",
              " 'usa': 500,\n",
              " 'leadership': 501,\n",
              " 'youtube': 502,\n",
              " 'cure': 503,\n",
              " 'office': 504,\n",
              " 'normal': 505,\n",
              " 'condition': 506,\n",
              " 'air': 507,\n",
              " 'matter': 508,\n",
              " 'everything': 509,\n",
              " 'director': 510,\n",
              " 'age': 511,\n",
              " 'practice': 512,\n",
              " 'clear': 513,\n",
              " 'na': 514,\n",
              " 'reason': 515,\n",
              " 'idea': 516,\n",
              " 'decision': 517,\n",
              " 'past': 518,\n",
              " 'sector': 519,\n",
              " '15': 520,\n",
              " 'piece': 521,\n",
              " 'citizen': 522,\n",
              " 'solution': 523,\n",
              " 'build': 524,\n",
              " 'youre': 525,\n",
              " 'deliver': 526,\n",
              " 'cut': 527,\n",
              " 'cdc': 528,\n",
              " 'expect': 529,\n",
              " 'battle': 530,\n",
              " 'protest': 531,\n",
              " 'especially': 532,\n",
              " 'website': 533,\n",
              " 'parent': 534,\n",
              " 'struggle': 535,\n",
              " 'cost': 536,\n",
              " 'track': 537,\n",
              " 'tip': 538,\n",
              " 'rt': 539,\n",
              " 'role': 540,\n",
              " 'behind': 541,\n",
              " 'among': 542,\n",
              " 'canada': 543,\n",
              " 'weve': 544,\n",
              " 'trial': 545,\n",
              " 'strong': 546,\n",
              " 'prepare': 547,\n",
              " 'united': 548,\n",
              " 'fail': 549,\n",
              " 'party': 550,\n",
              " 'cancel': 551,\n",
              " 'organization': 552,\n",
              " 'fuck': 553,\n",
              " 'europe': 554,\n",
              " 'attack': 555,\n",
              " 'bank': 556,\n",
              " 'morning': 557,\n",
              " 'ready': 558,\n",
              " 'handle': 559,\n",
              " 'name': 560,\n",
              " 'require': 561,\n",
              " 'digital': 562,\n",
              " 'source': 563,\n",
              " 'series': 564,\n",
              " 'true': 565,\n",
              " 'serve': 566,\n",
              " 'light': 567,\n",
              " 'forward': 568,\n",
              " '50': 569,\n",
              " 'trust': 570,\n",
              " 'pass': 571,\n",
              " 'history': 572,\n",
              " 'staysafe': 573,\n",
              " 'poor': 574,\n",
              " 'society': 575,\n",
              " 'blog': 576,\n",
              " 'healthy': 577,\n",
              " 'blame': 578,\n",
              " 'trace': 579,\n",
              " 'actually': 580,\n",
              " 'truth': 581,\n",
              " 'book': 582,\n",
              " 'twitter': 583,\n",
              " 'body': 584,\n",
              " 'hero': 585,\n",
              " 'guy': 586,\n",
              " 'friday': 587,\n",
              " 'reduce': 588,\n",
              " 'kit': 589,\n",
              " 'task': 590,\n",
              " 'date': 591,\n",
              " 'wrong': 592,\n",
              " 'grant': 593,\n",
              " 'expose': 594,\n",
              " 'ventilator': 595,\n",
              " 'interest': 596,\n",
              " 'extend': 597,\n",
              " 'combat': 598,\n",
              " 'heart': 599,\n",
              " 'iran': 600,\n",
              " 'doesnt': 601,\n",
              " 'manage': 602,\n",
              " 'drop': 603,\n",
              " 'huge': 604,\n",
              " '8': 605,\n",
              " 'chief': 606,\n",
              " 'course': 607,\n",
              " 'buy': 608,\n",
              " 'instead': 609,\n",
              " 'almost': 610,\n",
              " 'tax': 611,\n",
              " 'plant': 612,\n",
              " 'guideline': 613,\n",
              " 'gate': 614,\n",
              " 'happy': 615,\n",
              " 'indiafightscorona': 616,\n",
              " 'democrat': 617,\n",
              " '19': 618,\n",
              " 'protection': 619,\n",
              " 'street': 620,\n",
              " 'guidance': 621,\n",
              " 'nearly': 622,\n",
              " 'suggest': 623,\n",
              " 'technology': 624,\n",
              " 'whole': 625,\n",
              " 'california': 626,\n",
              " 'department': 627,\n",
              " 'view': 628,\n",
              " 'isolation': 629,\n",
              " 'count': 630,\n",
              " 'host': 631,\n",
              " 'park': 632,\n",
              " 'outside': 633,\n",
              " 'congress': 634,\n",
              " 'ban': 635,\n",
              " 'anything': 636,\n",
              " 'researcher': 637,\n",
              " 'retweet': 638,\n",
              " 'nyc': 639,\n",
              " 'et': 640,\n",
              " 'moment': 641,\n",
              " 'avoid': 642,\n",
              " 'major': 643,\n",
              " 'win': 644,\n",
              " 'givingtuesdaynow': 645,\n",
              " 'apply': 646,\n",
              " 'brief': 647,\n",
              " 'relate': 648,\n",
              " 'ceo': 649,\n",
              " 'development': 650,\n",
              " '24': 651,\n",
              " 'store': 652,\n",
              " 'feature': 653,\n",
              " 'officer': 654,\n",
              " 'grow': 655,\n",
              " 'funding': 656,\n",
              " 'water': 657,\n",
              " 'difficult': 658,\n",
              " 'figure': 659,\n",
              " 'professional': 660,\n",
              " 'click': 661,\n",
              " 'yes': 662,\n",
              " 'whether': 663,\n",
              " 'urge': 664,\n",
              " 'game': 665,\n",
              " 'shut': 666,\n",
              " 'worry': 667,\n",
              " 'page': 668,\n",
              " 'single': 669,\n",
              " 'publish': 670,\n",
              " 'within': 671,\n",
              " 'lack': 672,\n",
              " 'monday': 673,\n",
              " 'site': 674,\n",
              " 'contract': 675,\n",
              " 'animal': 676,\n",
              " 'night': 677,\n",
              " '•': 678,\n",
              " 'didnt': 679,\n",
              " 'senior': 680,\n",
              " 'comment': 681,\n",
              " 'present': 682,\n",
              " 'में': 683,\n",
              " 'customer': 684,\n",
              " 'forget': 685,\n",
              " 'approach': 686,\n",
              " 'centre': 687,\n",
              " 'podcast': 688,\n",
              " 'currently': 689,\n",
              " 'catch': 690,\n",
              " 'novel': 691,\n",
              " 'refuse': 692,\n",
              " 'initiative': 693,\n",
              " 'mass': 694,\n",
              " 'effective': 695,\n",
              " 'recent': 696,\n",
              " 'potential': 697,\n",
              " 'sarscov2': 698,\n",
              " 'colleague': 699,\n",
              " 'else': 700,\n",
              " 'distribute': 701,\n",
              " 'meeting': 702,\n",
              " 'suffer': 703,\n",
              " 'conversation': 704,\n",
              " '14': 705,\n",
              " 'target': 706,\n",
              " 'theyre': 707,\n",
              " 'teacher': 708,\n",
              " 'activity': 709,\n",
              " 'personal': 710,\n",
              " 'seek': 711,\n",
              " 'cancer': 712,\n",
              " 'nigeria': 713,\n",
              " 'class': 714,\n",
              " 'florida': 715,\n",
              " 'rest': 716,\n",
              " 'general': 717,\n",
              " 'complete': 718,\n",
              " 'wont': 719,\n",
              " 'thought': 720,\n",
              " 'statement': 721,\n",
              " 'individual': 722,\n",
              " 'arrest': 723,\n",
              " 'charity': 724,\n",
              " 'socialdistancing': 725,\n",
              " 'shop': 726,\n",
              " 'mayor': 727,\n",
              " 'slow': 728,\n",
              " 'deadly': 729,\n",
              " 'survive': 730,\n",
              " 'eu': 731,\n",
              " 'regard': 732,\n",
              " 'antibody': 733,\n",
              " 'wash': 734,\n",
              " 'e': 735,\n",
              " 'ill': 736,\n",
              " 'restaurant': 737,\n",
              " 'compare': 738,\n",
              " 'ignore': 739,\n",
              " 'medicine': 740,\n",
              " 'authority': 741,\n",
              " 'space': 742,\n",
              " 'indian': 743,\n",
              " '11': 744,\n",
              " 'australia': 745,\n",
              " 'tune': 746,\n",
              " 'account': 747,\n",
              " 'los': 748,\n",
              " 'immunity': 749,\n",
              " 'minute': 750,\n",
              " 'unemployment': 751,\n",
              " 'entire': 752,\n",
              " 'donald': 753,\n",
              " 'chance': 754,\n",
              " 'agree': 755,\n",
              " 'drive': 756,\n",
              " 'season': 757,\n",
              " 'tonight': 758,\n",
              " 'request': 759,\n",
              " 'mind': 760,\n",
              " 'produce': 761,\n",
              " 'spend': 762,\n",
              " 'loss': 763,\n",
              " '1st': 764,\n",
              " 'discus': 765,\n",
              " 'guide': 766,\n",
              " 'agency': 767,\n",
              " 'episode': 768,\n",
              " 'beyond': 769,\n",
              " 'ive': 770,\n",
              " 'highlight': 771,\n",
              " 'victim': 772,\n",
              " 'thursday': 773,\n",
              " 'men': 774,\n",
              " 'process': 775,\n",
              " 'meat': 776,\n",
              " 'serious': 777,\n",
              " 'short': 778,\n",
              " 'kind': 779,\n",
              " 'tool': 780,\n",
              " 'along': 781,\n",
              " 'blood': 782,\n",
              " 'fake': 783,\n",
              " 'discussion': 784,\n",
              " 'की': 785,\n",
              " 'design': 786,\n",
              " 'beach': 787,\n",
              " 'gop': 788,\n",
              " 'johnson': 789,\n",
              " 'epidemic': 790,\n",
              " 'failure': 791,\n",
              " 'letter': 792,\n",
              " 'review': 793,\n",
              " 'paper': 794,\n",
              " 'period': 795,\n",
              " 'former': 796,\n",
              " 'sell': 797,\n",
              " 'tuesday': 798,\n",
              " 'climate': 799,\n",
              " 'district': 800,\n",
              " 'nursing': 801,\n",
              " 'conference': 802,\n",
              " 'journalist': 803,\n",
              " 'dangerous': 804,\n",
              " 'price': 805,\n",
              " 'walk': 806,\n",
              " 'wonder': 807,\n",
              " 'inside': 808,\n",
              " 'isnt': 809,\n",
              " 'fire': 810,\n",
              " 'note': 811,\n",
              " 'sale': 812,\n",
              " 'equipment': 813,\n",
              " 'clinical': 814,\n",
              " 'facebook': 815,\n",
              " 'ease': 816,\n",
              " 'wave': 817,\n",
              " 'connect': 818,\n",
              " 'maybe': 819,\n",
              " 'town': 820,\n",
              " 'worth': 821,\n",
              " 'ahead': 822,\n",
              " 'texas': 823,\n",
              " 'mark': 824,\n",
              " 'term': 825,\n",
              " 'freedom': 826,\n",
              " 'charge': 827,\n",
              " '13': 828,\n",
              " '25': 829,\n",
              " 'active': 830,\n",
              " 'lift': 831,\n",
              " 'assistance': 832,\n",
              " 'court': 833,\n",
              " 'michigan': 834,\n",
              " 'african': 835,\n",
              " 'election': 836,\n",
              " 'amaze': 837,\n",
              " 'june': 838,\n",
              " 'download': 839,\n",
              " 'analysis': 840,\n",
              " 'alone': 841,\n",
              " 'limit': 842,\n",
              " 'tech': 843,\n",
              " 'violence': 844,\n",
              " 'france': 845,\n",
              " 'solidarity': 846,\n",
              " 'half': 847,\n",
              " 'email': 848,\n",
              " 'clean': 849,\n",
              " 'vital': 850,\n",
              " 'del': 851,\n",
              " 'delay': 852,\n",
              " '9': 853,\n",
              " 'dog': 854,\n",
              " 'delivery': 855,\n",
              " 'contain': 856,\n",
              " '1000': 857,\n",
              " 'ny': 858,\n",
              " 'etc': 859,\n",
              " 'germany': 860,\n",
              " 'north': 861,\n",
              " 'reality': 862,\n",
              " 'success': 863,\n",
              " 'phone': 864,\n",
              " 'package': 865,\n",
              " 'emerge': 866,\n",
              " 'border': 867,\n",
              " 'wish': 868,\n",
              " 'loan': 869,\n",
              " 'photo': 870,\n",
              " 'block': 871,\n",
              " 'cnn': 872,\n",
              " 'train': 873,\n",
              " 'difference': 874,\n",
              " 'appear': 875,\n",
              " 'art': 876,\n",
              " 'network': 877,\n",
              " 'private': 878,\n",
              " 'chain': 879,\n",
              " 'trade': 880,\n",
              " 'hydroxychloroquine': 881,\n",
              " 'meal': 882,\n",
              " 'r': 883,\n",
              " 'migrant': 884,\n",
              " 'maintain': 885,\n",
              " 'decide': 886,\n",
              " 'payment': 887,\n",
              " 'wellbeing': 888,\n",
              " 'attention': 889,\n",
              " 'fast': 890,\n",
              " 'form': 891,\n",
              " 'council': 892,\n",
              " '2019': 893,\n",
              " 'remdesivir': 894,\n",
              " 'music': 895,\n",
              " 'product': 896,\n",
              " 'income': 897,\n",
              " 'jail': 898,\n",
              " 'college': 899,\n",
              " 'common': 900,\n",
              " 'nh': 901,\n",
              " 'folk': 902,\n",
              " 'contribute': 903,\n",
              " 'stress': 904,\n",
              " 'carry': 905,\n",
              " 'capacity': 906,\n",
              " 'five': 907,\n",
              " 'investigation': 908,\n",
              " 'worldwide': 909,\n",
              " 'wake': 910,\n",
              " 'sense': 911,\n",
              " 'celebrate': 912,\n",
              " 'easy': 913,\n",
              " 'region': 914,\n",
              " 'car': 915,\n",
              " 'four': 916,\n",
              " 'towards': 917,\n",
              " 'management': 918,\n",
              " 'encourage': 919,\n",
              " 'additional': 920,\n",
              " 'v': 921,\n",
              " 'republican': 922,\n",
              " 'ongoing': 923,\n",
              " 'phase': 924,\n",
              " 'finally': 925,\n",
              " 'feed': 926,\n",
              " 'prime': 927,\n",
              " 'eat': 928,\n",
              " 'mr': 929,\n",
              " 'several': 930,\n",
              " 'cuomo': 931,\n",
              " 'curve': 932,\n",
              " 'west': 933,\n",
              " 'though': 934,\n",
              " 'later': 935,\n",
              " 'trend': 936,\n",
              " 'lesson': 937,\n",
              " 'biden': 938,\n",
              " 'welcome': 939,\n",
              " 'protective': 940,\n",
              " 'beat': 941,\n",
              " 'urgent': 942,\n",
              " 'john': 943,\n",
              " 'example': 944,\n",
              " 'respect': 945,\n",
              " 'recently': 946,\n",
              " 'से': 947,\n",
              " 'intelligence': 948,\n",
              " 'lock': 949,\n",
              " 'operation': 950,\n",
              " 'touch': 951,\n",
              " 'tackle': 952,\n",
              " 'narendramodi': 953,\n",
              " '18': 954,\n",
              " 'quickly': 955,\n",
              " 'dear': 956,\n",
              " 'grocery': 957,\n",
              " 'legal': 958,\n",
              " '40': 959,\n",
              " 'stock': 960,\n",
              " 'stimulus': 961,\n",
              " 'korea': 962,\n",
              " 'owner': 963,\n",
              " 'enjoy': 964,\n",
              " 'sit': 965,\n",
              " 'para': 966,\n",
              " 'por': 967,\n",
              " 'domestic': 968,\n",
              " 'physical': 969,\n",
              " 'se': 970,\n",
              " 'hundred': 971,\n",
              " 'appreciate': 972,\n",
              " 'unprecedented': 973,\n",
              " 'pmoindia': 974,\n",
              " 'responsible': 975,\n",
              " 'muslim': 976,\n",
              " 'boris': 977,\n",
              " 'icu': 978,\n",
              " 'potus': 979,\n",
              " 'file': 980,\n",
              " 'oh': 981,\n",
              " 'board': 982,\n",
              " 'production': 983,\n",
              " 'voice': 984,\n",
              " 'canadian': 985,\n",
              " 'pakistan': 986,\n",
              " 'conduct': 987,\n",
              " 'double': 988,\n",
              " 'exist': 989,\n",
              " 'executive': 990,\n",
              " 'zero': 991,\n",
              " 'al': 992,\n",
              " 'justice': 993,\n",
              " 'absolutely': 994,\n",
              " 'january': 995,\n",
              " 'massive': 996,\n",
              " 'shit': 997,\n",
              " 'girl': 998,\n",
              " 'tv': 999,\n",
              " 'whats': 1000,\n",
              " ...}"
            ]
          },
          "metadata": {
            "tags": []
          },
          "execution_count": 40
        }
      ]
    },
    {
      "cell_type": "code",
      "metadata": {
        "id": "-QEJvl-ZY5s5",
        "colab": {
          "base_uri": "https://localhost:8080/"
        },
        "outputId": "3563caf3-e2f7-4650-8ae6-a6f2bd85d2af"
      },
      "source": [
        "train_tweets = tokenizer.texts_to_sequences(x_train_final[\"lemma_str\"])\n",
        "train_tweets_lbl = x_train_final[\"retweet_count\"]\n",
        "train_tweets[0]"
      ],
      "execution_count": 41,
      "outputs": [
        {
          "output_type": "execute_result",
          "data": {
            "text/plain": [
              "[1708,\n",
              " 5137,\n",
              " 350,\n",
              " 20,\n",
              " 4597,\n",
              " 89,\n",
              " 12,\n",
              " 704,\n",
              " 162,\n",
              " 4184,\n",
              " 1106,\n",
              " 1659,\n",
              " 519,\n",
              " 4482,\n",
              " 618,\n",
              " 101361,\n",
              " 63350,\n",
              " 63351,\n",
              " 101362,\n",
              " 101363,\n",
              " 65,\n",
              " 194,\n",
              " 101364,\n",
              " 1659]"
            ]
          },
          "metadata": {
            "tags": []
          },
          "execution_count": 41
        }
      ]
    },
    {
      "cell_type": "code",
      "metadata": {
        "id": "TBQih2v5RLq2",
        "colab": {
          "base_uri": "https://localhost:8080/"
        },
        "outputId": "5c44d1ac-9d7a-463a-8c91-73a76d797475"
      },
      "source": [
        "tweet_length = 100\n",
        "x_train = x_train_final.copy(deep='true')\n",
        "print(\"Shape Training Tweet Data: \" + str(x_train.shape))\n",
        "print(\"Maximum Tweet length: {}\".format(len(max((x_train_final.lemma_str), key=len))))\n",
        "print(\"Minimum Tweet length: {}\".format(len(min((x_train_final.lemma_str), key=len))))\n",
        "result = [len(x) for x in x_train_final]\n",
        "print(\"Mean Tweet length: {}\".format(np.mean(result)))"
      ],
      "execution_count": 45,
      "outputs": [
        {
          "output_type": "stream",
          "text": [
            "Shape Training Tweet Data: (242974, 2)\n",
            "Maximum Tweet length: 837\n",
            "Minimum Tweet length: 0\n",
            "Mean Tweet length: 11.0\n"
          ],
          "name": "stdout"
        }
      ]
    },
    {
      "cell_type": "code",
      "metadata": {
        "id": "FtCOcbP-aTZo"
      },
      "source": [
        "from keras.preprocessing.sequence import pad_sequences\n",
        "max_length = 250 #words\n",
        "train_padded = pad_sequences(train_tweets, maxlen=max_length, padding='post', truncating='post')"
      ],
      "execution_count": 46,
      "outputs": []
    },
    {
      "cell_type": "code",
      "metadata": {
        "id": "PF71gEH5udXL",
        "colab": {
          "base_uri": "https://localhost:8080/"
        },
        "outputId": "2d03319c-2854-4f57-cd6c-81e508f47ebc"
      },
      "source": [
        "train_padded[0]"
      ],
      "execution_count": 47,
      "outputs": [
        {
          "output_type": "execute_result",
          "data": {
            "text/plain": [
              "array([  1708,   5137,    350,     20,   4597,     89,     12,    704,\n",
              "          162,   4184,   1106,   1659,    519,   4482,    618, 101361,\n",
              "        63350,  63351, 101362, 101363,     65,    194, 101364,   1659,\n",
              "            0,      0,      0,      0,      0,      0,      0,      0,\n",
              "            0,      0,      0,      0,      0,      0,      0,      0,\n",
              "            0,      0,      0,      0,      0,      0,      0,      0,\n",
              "            0,      0,      0,      0,      0,      0,      0,      0,\n",
              "            0,      0,      0,      0,      0,      0,      0,      0,\n",
              "            0,      0,      0,      0,      0,      0,      0,      0,\n",
              "            0,      0,      0,      0,      0,      0,      0,      0,\n",
              "            0,      0,      0,      0,      0,      0,      0,      0,\n",
              "            0,      0,      0,      0,      0,      0,      0,      0,\n",
              "            0,      0,      0,      0,      0,      0,      0,      0,\n",
              "            0,      0,      0,      0,      0,      0,      0,      0,\n",
              "            0,      0,      0,      0,      0,      0,      0,      0,\n",
              "            0,      0,      0,      0,      0,      0,      0,      0,\n",
              "            0,      0,      0,      0,      0,      0,      0,      0,\n",
              "            0,      0,      0,      0,      0,      0,      0,      0,\n",
              "            0,      0,      0,      0,      0,      0,      0,      0,\n",
              "            0,      0,      0,      0,      0,      0,      0,      0,\n",
              "            0,      0,      0,      0,      0,      0,      0,      0,\n",
              "            0,      0,      0,      0,      0,      0,      0,      0,\n",
              "            0,      0,      0,      0,      0,      0,      0,      0,\n",
              "            0,      0,      0,      0,      0,      0,      0,      0,\n",
              "            0,      0,      0,      0,      0,      0,      0,      0,\n",
              "            0,      0,      0,      0,      0,      0,      0,      0,\n",
              "            0,      0,      0,      0,      0,      0,      0,      0,\n",
              "            0,      0,      0,      0,      0,      0,      0,      0,\n",
              "            0,      0,      0,      0,      0,      0,      0,      0,\n",
              "            0,      0,      0,      0,      0,      0,      0,      0,\n",
              "            0,      0,      0,      0,      0,      0,      0,      0,\n",
              "            0,      0], dtype=int32)"
            ]
          },
          "metadata": {
            "tags": []
          },
          "execution_count": 47
        }
      ]
    },
    {
      "cell_type": "code",
      "metadata": {
        "id": "hlCoqQYTuytz",
        "colab": {
          "base_uri": "https://localhost:8080/"
        },
        "outputId": "87004082-f865-42aa-e507-e6f2efe0f3b2"
      },
      "source": [
        "print(x_train_final[\"lemma_str\"][0])\n",
        "print(len(x_train_final[\"lemma_str\"][0]))\n",
        "print(train_padded[0])"
      ],
      "execution_count": 48,
      "outputs": [
        {
          "output_type": "stream",
          "text": [
            "extremely valid point make ethiopia great time conversation around renew improve tourism sector postcovid 19 tourismeth flawlessinet landoforigins mysticalethio theitaliopian would love thoughtsinsights tourism\n",
            "210\n",
            "[  1708   5137    350     20   4597     89     12    704    162   4184\n",
            "   1106   1659    519   4482    618 101361  63350  63351 101362 101363\n",
            "     65    194 101364   1659      0      0      0      0      0      0\n",
            "      0      0      0      0      0      0      0      0      0      0\n",
            "      0      0      0      0      0      0      0      0      0      0\n",
            "      0      0      0      0      0      0      0      0      0      0\n",
            "      0      0      0      0      0      0      0      0      0      0\n",
            "      0      0      0      0      0      0      0      0      0      0\n",
            "      0      0      0      0      0      0      0      0      0      0\n",
            "      0      0      0      0      0      0      0      0      0      0\n",
            "      0      0      0      0      0      0      0      0      0      0\n",
            "      0      0      0      0      0      0      0      0      0      0\n",
            "      0      0      0      0      0      0      0      0      0      0\n",
            "      0      0      0      0      0      0      0      0      0      0\n",
            "      0      0      0      0      0      0      0      0      0      0\n",
            "      0      0      0      0      0      0      0      0      0      0\n",
            "      0      0      0      0      0      0      0      0      0      0\n",
            "      0      0      0      0      0      0      0      0      0      0\n",
            "      0      0      0      0      0      0      0      0      0      0\n",
            "      0      0      0      0      0      0      0      0      0      0\n",
            "      0      0      0      0      0      0      0      0      0      0\n",
            "      0      0      0      0      0      0      0      0      0      0\n",
            "      0      0      0      0      0      0      0      0      0      0\n",
            "      0      0      0      0      0      0      0      0      0      0\n",
            "      0      0      0      0      0      0      0      0      0      0]\n"
          ],
          "name": "stdout"
        }
      ]
    },
    {
      "cell_type": "code",
      "metadata": {
        "id": "qZdrmRovvQe9"
      },
      "source": [
        "reverse_word_index = dict([(value, key) for (key, value) in word_index.items()])"
      ],
      "execution_count": 51,
      "outputs": []
    },
    {
      "cell_type": "code",
      "metadata": {
        "id": "cL4z-mxbvg8W"
      },
      "source": [
        "def decode_text(text):\n",
        "  return \"  \".join([reverse_word_index.get(i, \"?\") for i in text])"
      ],
      "execution_count": 52,
      "outputs": []
    },
    {
      "cell_type": "code",
      "metadata": {
        "id": "AwGHBPBuv0XO",
        "colab": {
          "base_uri": "https://localhost:8080/",
          "height": 52
        },
        "outputId": "cfa9e0c2-0fd7-4f5c-fd42-f9b2a6996442"
      },
      "source": [
        "decode_text(train_tweets[0])"
      ],
      "execution_count": 53,
      "outputs": [
        {
          "output_type": "execute_result",
          "data": {
            "application/vnd.google.colaboratory.intrinsic+json": {
              "type": "string"
            },
            "text/plain": [
              "'extremely  valid  point  make  ethiopia  great  time  conversation  around  renew  improve  tourism  sector  postcovid  19  tourismeth  flawlessinet  landoforigins  mysticalethio  theitaliopian  would  love  thoughtsinsights  tourism'"
            ]
          },
          "metadata": {
            "tags": []
          },
          "execution_count": 53
        }
      ]
    },
    {
      "cell_type": "markdown",
      "metadata": {
        "id": "X25DH3DjR3F6"
      },
      "source": [
        "# Create and Build LSTM RNN\n"
      ]
    },
    {
      "cell_type": "code",
      "metadata": {
        "id": "5jNxm7sxOb-r",
        "colab": {
          "base_uri": "https://localhost:8080/"
        },
        "outputId": "842475b6-5693-4a5f-f458-5f91f25326b0"
      },
      "source": [
        "#vocab_size\n",
        "model = tf.keras.models.Sequential()\n",
        "model.add(\n",
        "    tf.keras.layers.Embedding(\n",
        "        input_dim = num_words, # The size of our vocabulary # equal to 974137\n",
        "        #This is the size of the vocabulary in the text data.\n",
        "        #For example, if your data is integer encoded to values between 0-10, then the size of the vocabulary would be 11 words.\n",
        "        output_dim = 32, # Dimensions to which each words shall be mapped\n",
        "        input_length = max_length # Length of input sequences\n",
        "    )\n",
        ")\n",
        "model.add(\n",
        "    tf.keras.layers.Dropout(\n",
        "        rate=0.25 # Randomly disable 25% of neurons\n",
        "    )\n",
        ")\n",
        "model.add(\n",
        "    tf.keras.layers.LSTM(\n",
        "        units=16 # 32 LSTM units in this layer\n",
        "    )\n",
        ")\n",
        "model.add(\n",
        "    tf.keras.layers.Dropout(\n",
        "        rate=0.25 # Randomly disable 25% of neurons\n",
        "    )\n",
        ")\n",
        "model.add(\n",
        "    tf.keras.layers.Dense(\n",
        "        units=1, # Single unit\n",
        "        activation='linear' # linear activation function (output regression)\n",
        "    )\n",
        ")\n",
        "\n",
        "# Compile the model\n",
        "model.compile(\n",
        "    loss=tf.keras.losses.MeanSquaredLogarithmicError(), # loss function\n",
        "    optimizer=tf.keras.optimizers.Adam(), # optimiser function\n",
        "    metrics=['mean_absolute_error']) # reporting metric\n",
        "\n",
        "# Display a summary of the models structure\n",
        "model.summary()"
      ],
      "execution_count": 58,
      "outputs": [
        {
          "output_type": "stream",
          "text": [
            "Model: \"sequential_1\"\n",
            "_________________________________________________________________\n",
            "Layer (type)                 Output Shape              Param #   \n",
            "=================================================================\n",
            "embedding_1 (Embedding)      (None, 250, 32)           9929088   \n",
            "_________________________________________________________________\n",
            "dropout_2 (Dropout)          (None, 250, 32)           0         \n",
            "_________________________________________________________________\n",
            "lstm_1 (LSTM)                (None, 16)                3136      \n",
            "_________________________________________________________________\n",
            "dropout_3 (Dropout)          (None, 16)                0         \n",
            "_________________________________________________________________\n",
            "dense_1 (Dense)              (None, 1)                 17        \n",
            "=================================================================\n",
            "Total params: 9,932,241\n",
            "Trainable params: 9,932,241\n",
            "Non-trainable params: 0\n",
            "_________________________________________________________________\n"
          ],
          "name": "stdout"
        }
      ]
    },
    {
      "cell_type": "markdown",
      "metadata": {
        "id": "SoxP91ziR8cB"
      },
      "source": [
        "# Visualise the Model"
      ]
    },
    {
      "cell_type": "code",
      "metadata": {
        "colab": {
          "base_uri": "https://localhost:8080/",
          "height": 644
        },
        "id": "5AWZQch0yTIL",
        "outputId": "2f423900-e8c3-43dc-e362-0ee3b23dfbf7"
      },
      "source": [
        "tf.keras.utils.plot_model(model, to_file='model.png', show_shapes=True, show_layer_names=True)"
      ],
      "execution_count": 55,
      "outputs": [
        {
          "output_type": "execute_result",
          "data": {
            "image/png": "[encoded data removed]",
            "text/plain": [
              "<IPython.core.display.Image object>"
            ]
          },
          "metadata": {
            "tags": []
          },
          "execution_count": 55
        }
      ]
    },
    {
      "cell_type": "markdown",
      "metadata": {
        "id": "GJgAybMzSBei"
      },
      "source": [
        "# Train"
      ]
    },
    {
      "cell_type": "code",
      "metadata": {
        "colab": {
          "base_uri": "https://localhost:8080/"
        },
        "id": "Jd-EmaxSZ-VV",
        "outputId": "6630387c-47e9-41fc-f68a-c3c6cc4d359c"
      },
      "source": [
        "print(type(x_train_final[\"retweet_count\"]))\n",
        "print(type(train_padded))\n",
        "x_train = np.array(train_padded)\n",
        "y_train = np.array(x_train_final[\"retweet_count\"])\n",
        "print(type(x_train))\n",
        "print(type(y_train))"
      ],
      "execution_count": 56,
      "outputs": [
        {
          "output_type": "stream",
          "text": [
            "<class 'pandas.core.series.Series'>\n",
            "<class 'numpy.ndarray'>\n",
            "<class 'numpy.ndarray'>\n",
            "<class 'numpy.ndarray'>\n"
          ],
          "name": "stdout"
        }
      ]
    },
    {
      "cell_type": "code",
      "metadata": {
        "colab": {
          "base_uri": "https://localhost:8080/"
        },
        "id": "BByuh0E6zRJ7",
        "outputId": "37fe6adf-dcb2-48ce-ec73-8902cfb5b8d4"
      },
      "source": [
        "# Train the LSTM on the training data\n",
        "history = model.fit(\n",
        "\n",
        "    # Training data : features (tweets) and labels (number of tweets)\n",
        "    x_train, y_train,\n",
        "                    \n",
        "    # Number of samples to work through before updating the \n",
        "    # internal model parameters via back propagation. The \n",
        "    # higher the batch, the more memory you need.\n",
        "    batch_size=128, \n",
        "\n",
        "    # An epoch is an iteration over the entire training data.\n",
        "    epochs=3, \n",
        "    \n",
        "    # The model will set apart his fraction of the training \n",
        "    # data, will not train on it, and will evaluate the loss\n",
        "    # and any model metrics on this data at the end of \n",
        "    # each epoch.\n",
        "    validation_split=0.2,\n",
        "    \n",
        "    verbose=1\n",
        ") "
      ],
      "execution_count": 59,
      "outputs": [
        {
          "output_type": "stream",
          "text": [
            "Epoch 1/3\n",
            "1519/1519 [==============================] - 161s 106ms/step - loss: 4.1765 - mean_absolute_error: 395.8513 - val_loss: 3.9139 - val_mean_absolute_error: 432.1815\n",
            "Epoch 2/3\n",
            "1519/1519 [==============================] - 159s 105ms/step - loss: 3.9706 - mean_absolute_error: 396.2297 - val_loss: 3.9142 - val_mean_absolute_error: 432.2213\n",
            "Epoch 3/3\n",
            "1519/1519 [==============================] - 160s 105ms/step - loss: 3.9693 - mean_absolute_error: 396.2399 - val_loss: 3.9141 - val_mean_absolute_error: 432.2144\n"
          ],
          "name": "stdout"
        }
      ]
    },
    {
      "cell_type": "markdown",
      "metadata": {
        "id": "yT2Loji8SFFK"
      },
      "source": [
        "# Evaluate model with test data and view results"
      ]
    },
    {
      "cell_type": "markdown",
      "metadata": {
        "id": "u7uQDFQTSJk5"
      },
      "source": [
        "# View some incorrect predictions"
      ]
    },
    {
      "cell_type": "markdown",
      "metadata": {
        "id": "rvYTow6xSP9B"
      },
      "source": [
        "# Run your own text against the trained model"
      ]
    }
  ]
}