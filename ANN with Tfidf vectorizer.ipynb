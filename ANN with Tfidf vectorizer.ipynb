{
 "cells": [
  {
   "cell_type": "code",
   "execution_count": 1,
   "metadata": {},
   "outputs": [
    {
     "name": "stderr",
     "output_type": "stream",
     "text": [
      "\n",
      "Bad key \"text.kerning_factor\" on line 4 in\n",
      "C:\\Users\\Imadeddine\\anaconda3\\envs\\research\\lib\\site-packages\\matplotlib\\mpl-data\\stylelib\\_classic_test_patch.mplstyle.\n",
      "You probably need to get an updated matplotlibrc file from\n",
      "https://github.com/matplotlib/matplotlib/blob/v3.1.3/matplotlibrc.template\n",
      "or from the matplotlib source distribution\n"
     ]
    }
   ],
   "source": [
    "import numpy as np\n",
    "import matplotlib.pyplot as plt\n",
    "import pandas as pd\n",
    "import os, sys\n",
    "from collections import Counter\n",
    "import re\n",
    "import seaborn as sns\n",
    "#from emoji import UNICODE_EMOJI\n",
    "\n",
    "plt.style.use('fivethirtyeight')\n",
    "\n",
    "%matplotlib inline\n",
    "%config InlineBackend.figure_format = 'retina'\n",
    "\n",
    "from sklearn.metrics import mean_absolute_error\n",
    "from sklearn.metrics import mean_squared_error\n",
    "from verstack.stratified_continuous_split import scsplit "
   ]
  },
  {
   "cell_type": "markdown",
   "metadata": {},
   "source": [
    "### Loading Clean Text"
   ]
  },
  {
   "cell_type": "code",
   "execution_count": 2,
   "metadata": {},
   "outputs": [],
   "source": [
    "path = os.getcwd()\n",
    "path_data_train = path + \"\\\\covidChallenge\\\\data\\\\clean_text.csv\"\n",
    "path_data_eval = path + \"\\\\covidChallenge\\\\data\\\\evaluation.csv\""
   ]
  },
  {
   "cell_type": "code",
   "execution_count": 3,
   "metadata": {},
   "outputs": [],
   "source": [
    "data = pd.read_csv(path_data_train)\n",
    "df_eval = pd.read_csv(path_data_eval)"
   ]
  },
  {
   "cell_type": "code",
   "execution_count": 4,
   "metadata": {},
   "outputs": [
    {
     "name": "stdout",
     "output_type": "stream",
     "text": [
      "<class 'pandas.core.frame.DataFrame'>\n",
      "RangeIndex: 665777 entries, 0 to 665776\n",
      "Data columns (total 11 columns):\n",
      " #   Column                Non-Null Count   Dtype \n",
      "---  ------                --------------   ----- \n",
      " 0   Unnamed: 0            665777 non-null  int64 \n",
      " 1   retweet_count         665777 non-null  int64 \n",
      " 2   user_verified         665777 non-null  int64 \n",
      " 3   user_statuses_count   665777 non-null  int64 \n",
      " 4   user_followers_count  665777 non-null  int64 \n",
      " 5   user_friends_count    665777 non-null  int64 \n",
      " 6   user_mentions         665777 non-null  int64 \n",
      " 7   urls                  665777 non-null  int64 \n",
      " 8   hashtags              665777 non-null  int64 \n",
      " 9   wordnet_pos           665777 non-null  object\n",
      " 10  lemma_str             662927 non-null  object\n",
      "dtypes: int64(9), object(2)\n",
      "memory usage: 55.9+ MB\n"
     ]
    }
   ],
   "source": [
    "data.info()"
   ]
  },
  {
   "cell_type": "markdown",
   "metadata": {},
   "source": [
    "> -Delete NaN rows"
   ]
  },
  {
   "cell_type": "code",
   "execution_count": 5,
   "metadata": {},
   "outputs": [
    {
     "name": "stdout",
     "output_type": "stream",
     "text": [
      "<class 'pandas.core.frame.DataFrame'>\n",
      "RangeIndex: 662927 entries, 0 to 662926\n",
      "Data columns (total 11 columns):\n",
      " #   Column                Non-Null Count   Dtype \n",
      "---  ------                --------------   ----- \n",
      " 0   Unnamed: 0            662927 non-null  int64 \n",
      " 1   retweet_count         662927 non-null  int64 \n",
      " 2   user_verified         662927 non-null  int64 \n",
      " 3   user_statuses_count   662927 non-null  int64 \n",
      " 4   user_followers_count  662927 non-null  int64 \n",
      " 5   user_friends_count    662927 non-null  int64 \n",
      " 6   user_mentions         662927 non-null  int64 \n",
      " 7   urls                  662927 non-null  int64 \n",
      " 8   hashtags              662927 non-null  int64 \n",
      " 9   wordnet_pos           662927 non-null  object\n",
      " 10  lemma_str             662927 non-null  object\n",
      "dtypes: int64(9), object(2)\n",
      "memory usage: 55.6+ MB\n"
     ]
    }
   ],
   "source": [
    "data.dropna(inplace=True)\n",
    "data.reset_index(drop=True,inplace=True)\n",
    "data.info()"
   ]
  },
  {
   "cell_type": "code",
   "execution_count": 6,
   "metadata": {},
   "outputs": [
    {
     "data": {
      "text/plain": [
       "Index(['Unnamed: 0', 'retweet_count', 'user_verified', 'user_statuses_count',\n",
       "       'user_followers_count', 'user_friends_count', 'user_mentions', 'urls',\n",
       "       'hashtags', 'wordnet_pos', 'lemma_str'],\n",
       "      dtype='object')"
      ]
     },
     "execution_count": 6,
     "metadata": {},
     "output_type": "execute_result"
    }
   ],
   "source": [
    "data.columns"
   ]
  },
  {
   "cell_type": "code",
   "execution_count": 7,
   "metadata": {},
   "outputs": [],
   "source": [
    "data = data.drop(['user_verified'], axis=1)\n",
    "data = data.drop(['user_statuses_count'], axis=1)\n",
    "data = data.drop(['user_followers_count'], axis=1)\n",
    "data = data.drop(['user_friends_count'], axis=1)\n",
    "data = data.drop(['user_mentions'], axis=1)\n",
    "data = data.drop(['urls'], axis=1)\n",
    "data = data.drop(['wordnet_pos'], axis=1)\n",
    "data = data.drop(['Unnamed: 0'], axis=1)"
   ]
  },
  {
   "cell_type": "code",
   "execution_count": 8,
   "metadata": {},
   "outputs": [],
   "source": [
    "data = data.drop(['hashtags'], axis=1)"
   ]
  },
  {
   "cell_type": "code",
   "execution_count": 9,
   "metadata": {},
   "outputs": [
    {
     "data": {
      "text/html": [
       "<div>\n",
       "<style scoped>\n",
       "    .dataframe tbody tr th:only-of-type {\n",
       "        vertical-align: middle;\n",
       "    }\n",
       "\n",
       "    .dataframe tbody tr th {\n",
       "        vertical-align: top;\n",
       "    }\n",
       "\n",
       "    .dataframe thead th {\n",
       "        text-align: right;\n",
       "    }\n",
       "</style>\n",
       "<table border=\"1\" class=\"dataframe\">\n",
       "  <thead>\n",
       "    <tr style=\"text-align: right;\">\n",
       "      <th></th>\n",
       "      <th>retweet_count</th>\n",
       "      <th>lemma_str</th>\n",
       "    </tr>\n",
       "  </thead>\n",
       "  <tbody>\n",
       "    <tr>\n",
       "      <th>0</th>\n",
       "      <td>0</td>\n",
       "      <td>smh give</td>\n",
       "    </tr>\n",
       "    <tr>\n",
       "      <th>1</th>\n",
       "      <td>0</td>\n",
       "      <td>u human think miss boat george</td>\n",
       "    </tr>\n",
       "    <tr>\n",
       "      <th>2</th>\n",
       "      <td>0</td>\n",
       "      <td>old dirty trick trump againlike dont know fauc...</td>\n",
       "    </tr>\n",
       "    <tr>\n",
       "      <th>3</th>\n",
       "      <td>0</td>\n",
       "      <td>seriously work 86 hour last check ’ even come ...</td>\n",
       "    </tr>\n",
       "    <tr>\n",
       "      <th>4</th>\n",
       "      <td>0</td>\n",
       "      <td>may almighty allah mercy u lagosians observed ...</td>\n",
       "    </tr>\n",
       "    <tr>\n",
       "      <th>...</th>\n",
       "      <td>...</td>\n",
       "      <td>...</td>\n",
       "    </tr>\n",
       "    <tr>\n",
       "      <th>662922</th>\n",
       "      <td>0</td>\n",
       "      <td>18 month dawg come man</td>\n",
       "    </tr>\n",
       "    <tr>\n",
       "      <th>662923</th>\n",
       "      <td>1</td>\n",
       "      <td>thank nurse stanfordemed family share covid19 ...</td>\n",
       "    </tr>\n",
       "    <tr>\n",
       "      <th>662924</th>\n",
       "      <td>8</td>\n",
       "      <td>post pearl palliative end life bereavement car...</td>\n",
       "    </tr>\n",
       "    <tr>\n",
       "      <th>662925</th>\n",
       "      <td>0</td>\n",
       "      <td>facial expression kind look answer oh wait ans...</td>\n",
       "    </tr>\n",
       "    <tr>\n",
       "      <th>662926</th>\n",
       "      <td>0</td>\n",
       "      <td>really cant wait</td>\n",
       "    </tr>\n",
       "  </tbody>\n",
       "</table>\n",
       "<p>662927 rows × 2 columns</p>\n",
       "</div>"
      ],
      "text/plain": [
       "        retweet_count                                          lemma_str\n",
       "0                   0                                           smh give\n",
       "1                   0                     u human think miss boat george\n",
       "2                   0  old dirty trick trump againlike dont know fauc...\n",
       "3                   0  seriously work 86 hour last check ’ even come ...\n",
       "4                   0  may almighty allah mercy u lagosians observed ...\n",
       "...               ...                                                ...\n",
       "662922              0                             18 month dawg come man\n",
       "662923              1  thank nurse stanfordemed family share covid19 ...\n",
       "662924              8  post pearl palliative end life bereavement car...\n",
       "662925              0  facial expression kind look answer oh wait ans...\n",
       "662926              0                                   really cant wait\n",
       "\n",
       "[662927 rows x 2 columns]"
      ]
     },
     "execution_count": 9,
     "metadata": {},
     "output_type": "execute_result"
    }
   ],
   "source": [
    "data"
   ]
  },
  {
   "cell_type": "markdown",
   "metadata": {},
   "source": [
    "### Creating Bag of Words"
   ]
  },
  {
   "cell_type": "code",
   "execution_count": 11,
   "metadata": {},
   "outputs": [],
   "source": [
    "from sklearn.feature_extraction.text import CountVectorizer\n",
    "bow_converter = CountVectorizer(tokenizer=lambda doc: doc)\n",
    "\n",
    "x = bow_converter.fit_transform(data['lemma_str'])\n",
    "words = bow_converter.get_feature_names()"
   ]
  },
  {
   "cell_type": "code",
   "execution_count": 12,
   "metadata": {},
   "outputs": [
    {
     "data": {
      "text/plain": [
       "<662927x1789 sparse matrix of type '<class 'numpy.int64'>'\n",
       "\twith 11860200 stored elements in Compressed Sparse Row format>"
      ]
     },
     "execution_count": 12,
     "metadata": {},
     "output_type": "execute_result"
    }
   ],
   "source": [
    "x"
   ]
  },
  {
   "cell_type": "code",
   "execution_count": 13,
   "metadata": {},
   "outputs": [
    {
     "data": {
      "text/plain": [
       "1789"
      ]
     },
     "execution_count": 13,
     "metadata": {},
     "output_type": "execute_result"
    }
   ],
   "source": [
    "len(words)"
   ]
  },
  {
   "cell_type": "code",
   "execution_count": 14,
   "metadata": {},
   "outputs": [],
   "source": [
    "bigram_converter = CountVectorizer(tokenizer=lambda doc: doc, ngram_range=[2,2]) \n",
    "trigram_converter = CountVectorizer(tokenizer=lambda doc: doc, ngram_range=[3,3])"
   ]
  },
  {
   "cell_type": "code",
   "execution_count": 15,
   "metadata": {},
   "outputs": [
    {
     "data": {
      "text/plain": [
       "CountVectorizer(ngram_range=[2, 2],\n",
       "                tokenizer=<function <lambda> at 0x000001EAA832B820>)"
      ]
     },
     "execution_count": 15,
     "metadata": {},
     "output_type": "execute_result"
    }
   ],
   "source": [
    "bigram_converter"
   ]
  },
  {
   "cell_type": "code",
   "execution_count": 72,
   "metadata": {},
   "outputs": [],
   "source": [
    "import csv\n",
    "import numpy as np\n",
    "import pandas as pd\n",
    "from sklearn.ensemble import GradientBoostingRegressor\n",
    "from sklearn.feature_extraction.text import TfidfVectorizer\n",
    "from sklearn.metrics import mean_absolute_error\n",
    "from sklearn.model_selection import train_test_split\n",
    "from sklearn.metrics import mean_squared_error\n",
    "from verstack.stratified_continuous_split import scsplit # pip install verstack\n",
    "\n",
    "# Here we split our training data into trainig and testing set. This way we can estimate the evaluation of our model without uploading to Kaggle and avoid overfitting over our evaluation dataset.\n",
    "# scsplit method is used in order to split our regression data in a stratisfied way and keep a similar distribution of retweet counts between the two sets\n",
    "X_train, X_test, y_train, y_test = scsplit(data, data['retweet_count'], stratify=data['retweet_count'], train_size=0.7, test_size=0.3, random_state = 42)\n",
    "\n",
    "# Split train into train-val\n",
    "X_train, X_val, y_train, y_val = train_test_split(X_train, X_train['retweet_count'], \\\n",
    "                                                  test_size=0.1, random_state=21)\n",
    "\n",
    "# We remove the actual number of retweets from our features since it is the value that we are trying to predict\n",
    "X_train = X_train.drop(['retweet_count'], axis=1)\n",
    "X_val = X_val.drop(['retweet_count'], axis=1)\n",
    "X_test = X_test.drop(['retweet_count'], axis=1)\n",
    "\n",
    "# You can examine the available features using X_train.head()\n",
    "\n",
    "# We set up an Tfidf Vectorizer that will use the top 100 tokens from the tweets. We also remove stopwords.\n",
    "# To do that we have to fit our training dataset and then transform both the training and testing dataset. \n",
    "vectorizer = TfidfVectorizer(max_features=100)\n",
    "X_train = vectorizer.fit_transform(X_train['lemma_str'])\n",
    "X_val = vectorizer.fit_transform(X_val['lemma_str'])\n",
    "X_test = vectorizer.fit_transform(X_test['lemma_str'])"
   ]
  },
  {
   "cell_type": "code",
   "execution_count": 73,
   "metadata": {},
   "outputs": [
    {
     "name": "stdout",
     "output_type": "stream",
     "text": [
      "\t Train dataset shape:  (417643, 100)\n",
      "\t Val dataset shape:  (46405, 100)\n",
      "-----------------------------------------------------\n",
      "\t Y_train dataset shape:  (417643,)\n",
      "\t Y_val dataset shape:  (46405,)\n",
      "-----------------------------------------------------\n",
      "\t X_Test dataset shape:  (198879, 100)\n",
      "\t Y_test dataset shape:  (198879,)\n"
     ]
    }
   ],
   "source": [
    "print(\"\\t Train dataset shape: \", X_train.shape)\n",
    "print(\"\\t Val dataset shape: \", X_val.shape)\n",
    "print(\"-----------------------------------------------------\")\n",
    "print(\"\\t Y_train dataset shape: \", y_train.shape)\n",
    "print(\"\\t Y_val dataset shape: \", y_val.shape)\n",
    "print(\"-----------------------------------------------------\")\n",
    "print(\"\\t X_Test dataset shape: \", X_test.shape)\n",
    "print(\"\\t Y_test dataset shape: \", y_test.shape)"
   ]
  },
  {
   "cell_type": "code",
   "execution_count": 78,
   "metadata": {},
   "outputs": [
    {
     "name": "stdout",
     "output_type": "stream",
     "text": [
      "Type:  <class 'scipy.sparse.csr.csr_matrix'>\n",
      "Type:  <class 'pandas.core.series.Series'>\n"
     ]
    }
   ],
   "source": [
    "print(\"Type: \", type(X_test))\n",
    "print(\"Type: \", type(y_train))"
   ]
  },
  {
   "cell_type": "code",
   "execution_count": 62,
   "metadata": {},
   "outputs": [],
   "source": [
    "from sklearn.linear_model import LogisticRegression\n",
    "\n",
    "def simple_logistic_classify(X_tr, y_tr, X_test, y_test, _C=1.0):\n",
    "    model = LogisticRegression(C=_C).fit(X_tr, y_tr)\n",
    "    score = model.score(X_test, y_test)\n",
    "    print('Test Score with', score)\n",
    "    return model"
   ]
  },
  {
   "cell_type": "code",
   "execution_count": 63,
   "metadata": {},
   "outputs": [],
   "source": [
    "#simple_logistic_classify(X_train, y_train, X_test, y_test)"
   ]
  },
  {
   "cell_type": "code",
   "execution_count": 64,
   "metadata": {},
   "outputs": [],
   "source": [
    "def batch_generator(X_data, y_data, batch_size):\n",
    "    samples_per_epoch = X_data.shape[0]\n",
    "    number_of_batches = samples_per_epoch/batch_size\n",
    "    counter=0\n",
    "    index = np.arange(np.shape(y_data)[0])\n",
    "    while 1:\n",
    "        index_batch = index[batch_size*counter:batch_size*(counter+1)]\n",
    "        X_batch = X_data[index_batch,:].toarray()\n",
    "        y_batch = y_data[y_data.index[index_batch]]\n",
    "        counter += 1\n",
    "        yield np.array(X_batch), np.array(y_batch)\n",
    "        if (counter > number_of_batches):\n",
    "            counter=0"
   ]
  },
  {
   "cell_type": "code",
   "execution_count": 65,
   "metadata": {},
   "outputs": [],
   "source": [
    "import torch\n",
    "import torch.nn as nn\n",
    "import torch.optim as optim\n",
    "from torch.utils.data import Dataset, DataLoader\n",
    "from sklearn.preprocessing import MinMaxScaler    \n",
    "from sklearn.model_selection import train_test_split\n",
    "from sklearn.metrics import mean_squared_error"
   ]
  },
  {
   "cell_type": "code",
   "execution_count": 85,
   "metadata": {},
   "outputs": [],
   "source": [
    "EPOCHS = 10\n",
    "BATCH_SIZE = 32\n",
    "LEARNING_RATE = 0.01\n",
    "NUM_FEATURES = X_train.shape[1]"
   ]
  },
  {
   "cell_type": "code",
   "execution_count": 86,
   "metadata": {},
   "outputs": [
    {
     "name": "stdout",
     "output_type": "stream",
     "text": [
      "cuda:0\n"
     ]
    }
   ],
   "source": [
    "device = torch.device(\"cuda:0\" if torch.cuda.is_available() else \"cpu\")\n",
    "print(device)"
   ]
  },
  {
   "cell_type": "code",
   "execution_count": 87,
   "metadata": {},
   "outputs": [],
   "source": [
    "class RegressionDataset(Dataset):\n",
    "    \n",
    "    def __init__(self, X_data, y_data):\n",
    "        self.X_data = X_data\n",
    "        self.y_data = y_data\n",
    "        \n",
    "    def __getitem__(self, index):\n",
    "        return self.X_data[index], self.y_data[index]\n",
    "        \n",
    "    def __len__ (self):\n",
    "        return len(self.X_data)"
   ]
  },
  {
   "cell_type": "code",
   "execution_count": null,
   "metadata": {},
   "outputs": [],
   "source": []
  },
  {
   "cell_type": "code",
   "execution_count": 95,
   "metadata": {},
   "outputs": [],
   "source": [
    "train_dataset = torch.utils.data.TensorDataset(torch.tensor(X_train.toarray(), dtype=torch.float32, device=device), \\\n",
    "                                               torch.tensor(y_train.values, dtype=torch.float32, device=device))\n",
    "val_dataset = torch.utils.data.TensorDataset(torch.tensor(X_val.toarray(), dtype=torch.float32, device=device), \\\n",
    "                                               torch.tensor(y_val.values, dtype=torch.float32, device=device))\n",
    "test_dataset = torch.utils.data.TensorDataset(torch.tensor(X_test.toarray(), dtype=torch.float32, device=device), \\\n",
    "                                              torch.tensor(y_test.values, dtype=torch.float32, device=device))"
   ]
  },
  {
   "cell_type": "code",
   "execution_count": null,
   "metadata": {},
   "outputs": [],
   "source": []
  },
  {
   "cell_type": "code",
   "execution_count": 96,
   "metadata": {},
   "outputs": [],
   "source": [
    "#train_dataset = RegressionDataset(torch.from_numpy(X_train).float(), torch.from_numpy(y_train).float())\n",
    "#val_dataset = RegressionDataset(torch.from_numpy(X_val).float(), torch.from_numpy(y_val).float())\n",
    "#test_dataset = RegressionDataset(torch.from_numpy(X_test).float(), torch.from_numpy(y_test).float())"
   ]
  },
  {
   "cell_type": "code",
   "execution_count": 97,
   "metadata": {},
   "outputs": [],
   "source": [
    "train_loader = DataLoader(dataset=train_dataset, batch_size=BATCH_SIZE, shuffle=True)\n",
    "val_loader = DataLoader(dataset=val_dataset, batch_size=1)\n",
    "test_loader = DataLoader(dataset=test_dataset, batch_size=1)"
   ]
  },
  {
   "cell_type": "code",
   "execution_count": 98,
   "metadata": {},
   "outputs": [],
   "source": [
    "class Regression(nn.Module):\n",
    "    def __init__(self, num_features):\n",
    "        super(Regression, self).__init__()\n",
    "        \n",
    "        self.layer_1 = nn.Linear(num_features, 256)\n",
    "        self.layer_2 = nn.Linear(256, 64)\n",
    "        #self.layer_3 = nn.Linear(64, 64)\n",
    "        #self.layer_4 = nn.Linear(32, 28)\n",
    "        #self.layer_5 = nn.Linear(28, 8)\n",
    "        self.layer_out = nn.Linear(64, 1)\n",
    "        \n",
    "        self.relu = nn.ReLU()\n",
    "    def forward(self, inputs):\n",
    "        x = self.relu(self.layer_1(inputs))\n",
    "        x = self.relu(self.layer_2(x))\n",
    "        #x = self.relu(self.layer_3(x))\n",
    "        #x = self.relu(self.layer_4(x))\n",
    "        #x = self.relu(self.layer_5(x))\n",
    "        x = self.layer_out(x)\n",
    "        return (x)\n",
    "    \n",
    "    def predict(self, test_inputs):\n",
    "        x = self.relu(self.layer_1(test_inputs))\n",
    "        x = self.relu(self.layer_2(x))\n",
    "        #x = self.relu(self.layer_3(x))\n",
    "        #x = self.relu(self.layer_4(x))\n",
    "        #x = self.relu(self.layer_5(x))\n",
    "        x = self.layer_out(x)\n",
    "        return (x)"
   ]
  },
  {
   "cell_type": "code",
   "execution_count": 99,
   "metadata": {},
   "outputs": [
    {
     "name": "stdout",
     "output_type": "stream",
     "text": [
      "Regression(\n",
      "  (layer_1): Linear(in_features=100, out_features=256, bias=True)\n",
      "  (layer_2): Linear(in_features=256, out_features=64, bias=True)\n",
      "  (layer_out): Linear(in_features=64, out_features=1, bias=True)\n",
      "  (relu): ReLU()\n",
      ")\n"
     ]
    }
   ],
   "source": [
    "model = Regression(NUM_FEATURES)\n",
    "model.to(device)\n",
    "print(model)\n",
    "criterion = nn.MSELoss()\n",
    "optimizer = optim.Adam(model.parameters(), lr=LEARNING_RATE)"
   ]
  },
  {
   "cell_type": "code",
   "execution_count": 100,
   "metadata": {},
   "outputs": [],
   "source": [
    "loss_stats = {\n",
    "    'train': [],\n",
    "    \"val\": []\n",
    "}"
   ]
  },
  {
   "cell_type": "code",
   "execution_count": 101,
   "metadata": {},
   "outputs": [
    {
     "name": "stdout",
     "output_type": "stream",
     "text": [
      "Epoch 001: | Train Loss: 9059924.50137 | Val Loss: 3212294.45792\n",
      "\t   | MAE Train Loss: 3401839.50449 | MAE Val Loss: 10941138.02094\n",
      "Epoch 002: | Train Loss: 9054083.38856 | Val Loss: 3210821.39314\n",
      "\t   | MAE Train Loss: 3442238.77064 | MAE Val Loss: 10825586.18738\n",
      "Epoch 003: | Train Loss: 9051782.91599 | Val Loss: 3215253.00666\n",
      "\t   | MAE Train Loss: 3468282.50549 | MAE Val Loss: 9623133.26438\n",
      "Epoch 004: | Train Loss: 9051582.39778 | Val Loss: 3217252.45592\n",
      "\t   | MAE Train Loss: 3444058.01200 | MAE Val Loss: 10807593.63363\n",
      "Epoch 005: | Train Loss: 9051959.40013 | Val Loss: 3216925.11721\n",
      "\t   | MAE Train Loss: 3474412.61616 | MAE Val Loss: 10827919.83452\n",
      "Epoch 006: | Train Loss: 9051786.26370 | Val Loss: 3220126.30484\n",
      "\t   | MAE Train Loss: 3455680.16019 | MAE Val Loss: 13370026.70320\n",
      "Epoch 007: | Train Loss: 9052843.62326 | Val Loss: 3211593.70223\n",
      "\t   | MAE Train Loss: 3507885.23338 | MAE Val Loss: 11034116.76354\n",
      "Epoch 008: | Train Loss: 9053430.25837 | Val Loss: 3209907.39092\n",
      "\t   | MAE Train Loss: 3479946.59819 | MAE Val Loss: 10572939.59220\n",
      "Epoch 009: | Train Loss: 9052332.91793 | Val Loss: 3211435.53925\n",
      "\t   | MAE Train Loss: 3511657.29642 | MAE Val Loss: 10195463.60233\n",
      "Epoch 010: | Train Loss: 9052148.39730 | Val Loss: 3213959.76397\n",
      "\t   | MAE Train Loss: 3498107.33832 | MAE Val Loss: 10626128.02562\n"
     ]
    }
   ],
   "source": [
    "for e in range(1, EPOCHS+1):\n",
    "    # TRAINING\n",
    "    train_epoch_loss = 0\n",
    "    train_epoch_loss_mae = 0\n",
    "    \n",
    "    model.train()\n",
    "    for X_train_batch, y_train_batch in train_loader:\n",
    "        X_train_batch, y_train_batch = X_train_batch.to(device), y_train_batch.to(device)\n",
    "        optimizer.zero_grad()\n",
    "        \n",
    "        y_train_pred = model(X_train_batch)\n",
    "        \n",
    "        train_loss = criterion(y_train_pred, y_train_batch.unsqueeze(1))\n",
    "        loss_mae = nn.L1Loss()(y_train_pred, y_train_batch.unsqueeze(1))\n",
    "        \n",
    "        train_loss.backward()\n",
    "        optimizer.step()\n",
    "        \n",
    "        train_epoch_loss += train_loss.item()\n",
    "        train_epoch_loss_mae += loss_mae.item()\n",
    "        \n",
    "    # VALIDATION    \n",
    "    with torch.no_grad():\n",
    "        val_epoch_loss = 0\n",
    "        val_epoch_mae = 0\n",
    "        \n",
    "        model.eval()\n",
    "        for X_val_batch, y_val_batch in val_loader:\n",
    "            X_val_batch, y_val_batch = X_val_batch.to(device), y_val_batch.to(device)\n",
    "            y_val_pred = model(X_val_batch)\n",
    "            val_loss = criterion(y_val_pred, y_val_batch.unsqueeze(1))\n",
    "            mae_loss = nn.L1Loss()(y_val_pred, y_val_batch.unsqueeze(1))\n",
    "            \n",
    "            val_epoch_loss += val_loss.item()\n",
    "            val_epoch_mae += mae_loss.item()\n",
    "            \n",
    "    loss_stats['train'].append(train_epoch_loss/len(train_loader))\n",
    "    loss_stats['val'].append(val_epoch_loss/len(val_loader))                              \n",
    "    \n",
    "    print(f'Epoch {e+0:03}: | Train Loss: {train_epoch_loss/len(train_loader):.5f} | Val Loss: {val_epoch_loss/len(val_loader):.5f}')\n",
    "    print(f'\\t   | MAE Train Loss: {train_epoch_loss_mae:.5f} | MAE Val Loss: {val_epoch_mae:.5f}')"
   ]
  },
  {
   "cell_type": "code",
   "execution_count": 102,
   "metadata": {},
   "outputs": [
    {
     "data": {
      "text/plain": [
       "Text(0.5, 1.0, 'Train-Val Loss/Epoch')"
      ]
     },
     "execution_count": 102,
     "metadata": {},
     "output_type": "execute_result"
    },
    {
     "data": {
      "image/png": "[encoded data removed]",
      "text/plain": [
       "<Figure size 1080x576 with 1 Axes>"
      ]
     },
     "metadata": {
      "image/png": {
       "height": 495,
       "width": 1018
      },
      "needs_background": "light"
     },
     "output_type": "display_data"
    }
   ],
   "source": [
    "train_val_loss_df = pd.DataFrame.from_dict(loss_stats).reset_index().melt(id_vars=['index']).rename(columns={\"index\":\"epochs\"})\n",
    "plt.figure(figsize=(15,8))\n",
    "sns.lineplot(data=train_val_loss_df, x = \"epochs\", y=\"value\", hue=\"variable\").set_title('Train-Val Loss/Epoch')"
   ]
  },
  {
   "cell_type": "code",
   "execution_count": 103,
   "metadata": {},
   "outputs": [],
   "source": [
    "y_pred_list = []\n",
    "with torch.no_grad():\n",
    "    model.eval()\n",
    "    for X_batch, _ in test_loader:\n",
    "        X_batch = X_batch.to(device)\n",
    "        y_test_pred = model(X_batch)\n",
    "        y_pred_list.append(y_test_pred.cpu().numpy())\n",
    "        \n",
    "y_pred_list = [a.squeeze().tolist() for a in y_pred_list]"
   ]
  },
  {
   "cell_type": "code",
   "execution_count": 104,
   "metadata": {},
   "outputs": [
    {
     "name": "stdout",
     "output_type": "stream",
     "text": [
      "\t Mean Squared Error : 7530550.123446975\n",
      "\t mean_absolute_error : 243.97472915123183\n"
     ]
    }
   ],
   "source": [
    "mse = mean_squared_error(y_test, y_pred_list)\n",
    "mae = mean_absolute_error(y_test, y_pred_list)\n",
    "print(\"\\t Mean Squared Error :\", mse)\n",
    "print(\"\\t mean_absolute_error :\", mae)"
   ]
  },
  {
   "cell_type": "code",
   "execution_count": null,
   "metadata": {},
   "outputs": [],
   "source": [
    "PATH = \"NN_\" + str(EPOCHS) + \"_StandardScaler_epochs_\" + str(int(mae)) + \".pt\"\n",
    "torch.save(model.state_dict(), PATH)"
   ]
  },
  {
   "cell_type": "code",
   "execution_count": null,
   "metadata": {},
   "outputs": [],
   "source": []
  },
  {
   "cell_type": "code",
   "execution_count": null,
   "metadata": {},
   "outputs": [],
   "source": []
  }
 ],
 "metadata": {
  "kernelspec": {
   "display_name": "research",
   "language": "python",
   "name": "research"
  },
  "language_info": {
   "codemirror_mode": {
    "name": "ipython",
    "version": 3
   },
   "file_extension": ".py",
   "mimetype": "text/x-python",
   "name": "python",
   "nbconvert_exporter": "python",
   "pygments_lexer": "ipython3",
   "version": "3.8.5"
  }
 },
 "nbformat": 4,
 "nbformat_minor": 4
}
